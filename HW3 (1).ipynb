{
  "nbformat": 4,
  "nbformat_minor": 0,
  "metadata": {
    "kernelspec": {
      "display_name": "Python 3",
      "language": "python",
      "name": "python3"
    },
    "language_info": {
      "codemirror_mode": {
        "name": "ipython",
        "version": 3
      },
      "file_extension": ".py",
      "mimetype": "text/x-python",
      "name": "python",
      "nbconvert_exporter": "python",
      "pygments_lexer": "ipython3",
      "version": "3.7.4"
    },
    "colab": {
      "name": "HW3.ipynb",
      "provenance": [],
      "collapsed_sections": []
    }
  },
  "cells": [
    {
      "cell_type": "markdown",
      "metadata": {
        "id": "_kksRnCDl6RH",
        "colab_type": "text"
      },
      "source": [
        "**You may need to install [OpenCV](https://pypi.python.org/pypi/opencv-python) and [scikit-video](http://www.scikit-video.org/stable/).**"
      ]
    },
    {
      "cell_type": "code",
      "metadata": {
        "id": "jMbhbNyhl6RK",
        "colab_type": "code",
        "outputId": "d2f97fc8-9e15-4093-95a0-1235e816f4a3",
        "colab": {
          "base_uri": "https://localhost:8080/",
          "height": 223
        }
      },
      "source": [
        "!pip install scikit-video\n",
        "import keras\n",
        "import numpy as np\n",
        "import io\n",
        "import base64\n",
        "from IPython.display import HTML\n",
        "import skvideo.io\n",
        "import cv2\n",
        "import json\n",
        "\n",
        "from keras.models import Sequential,model_from_json\n",
        "from keras.layers.core import Dense,Flatten\n",
        "from keras.optimizers import sgd\n",
        "from keras.layers import Conv2D, MaxPooling2D, Activation, AveragePooling2D,Reshape,BatchNormalization"
      ],
      "execution_count": 2,
      "outputs": [
        {
          "output_type": "stream",
          "text": [
            "Collecting scikit-video\n",
            "\u001b[?25l  Downloading https://files.pythonhosted.org/packages/b1/a6/c69cad508139a342810ae46e946ebb3256aa6e42f690d901bb68f50582e3/scikit_video-1.1.11-py2.py3-none-any.whl (2.3MB)\n",
            "\u001b[K     |████████████████████████████████| 2.3MB 3.3MB/s \n",
            "\u001b[?25hRequirement already satisfied: pillow in /usr/local/lib/python3.6/dist-packages (from scikit-video) (6.2.2)\n",
            "Requirement already satisfied: numpy in /usr/local/lib/python3.6/dist-packages (from scikit-video) (1.17.5)\n",
            "Requirement already satisfied: scipy in /usr/local/lib/python3.6/dist-packages (from scikit-video) (1.4.1)\n",
            "Installing collected packages: scikit-video\n",
            "Successfully installed scikit-video-1.1.11\n"
          ],
          "name": "stdout"
        },
        {
          "output_type": "stream",
          "text": [
            "Using TensorFlow backend.\n"
          ],
          "name": "stderr"
        },
        {
          "output_type": "display_data",
          "data": {
            "text/html": [
              "<p style=\"color: red;\">\n",
              "The default version of TensorFlow in Colab will soon switch to TensorFlow 2.x.<br>\n",
              "We recommend you <a href=\"https://www.tensorflow.org/guide/migrate\" target=\"_blank\">upgrade</a> now \n",
              "or ensure your notebook will continue to use TensorFlow 1.x via the <code>%tensorflow_version 1.x</code> magic:\n",
              "<a href=\"https://colab.research.google.com/notebooks/tensorflow_version.ipynb\" target=\"_blank\">more info</a>.</p>\n"
            ],
            "text/plain": [
              "<IPython.core.display.HTML object>"
            ]
          },
          "metadata": {
            "tags": []
          }
        }
      ]
    },
    {
      "cell_type": "markdown",
      "metadata": {
        "id": "RL7iuez6l6RP",
        "colab_type": "text"
      },
      "source": [
        "# MiniProject on Deep Reinforcement Learning"
      ]
    },
    {
      "cell_type": "markdown",
      "metadata": {
        "id": "vFRUvaVNl6RR",
        "colab_type": "text"
      },
      "source": [
        "__Notations__: $E_p$ is the expectation under probability $p$. Please justify each of your answer and widely comment your code."
      ]
    },
    {
      "cell_type": "markdown",
      "metadata": {
        "id": "xxjuLVl6l6RS",
        "colab_type": "text"
      },
      "source": [
        "# Context"
      ]
    },
    {
      "cell_type": "markdown",
      "metadata": {
        "id": "aISXpK7xl6RT",
        "colab_type": "text"
      },
      "source": [
        "In a reinforcement learning algorithm, we modelize each step $t$ as an action $a_t$ obtained from a state $s_t$, i.e. $\\{(a_{t},s_{t})_{t\\leq T}\\}$ having the Markov property. We consider a discount factor $\\gamma \\in [0,1]$ that ensures convergence. The goal is to find among all the policies $\\pi$, one that maximizes the expected reward:\n",
        "\n",
        "\\begin{equation*}\n",
        "R(\\pi)=\\sum_{t\\leq T}E_{p^{\\pi}}[\\gamma^t r(s_{t},a_{t})] \\> ,\n",
        "\\end{equation*}\n",
        "\n",
        "where: \n",
        "\\begin{equation*}p^{\\pi}(a_{0},a_{1},s_{1},...,a_{T},s_{T})=p(a_{0})\\prod_{t=1}^{T}\\pi(a_{t}|s_{t})p(s_{t+1}|s_{t},a_{t}) \\> .\n",
        "\\end{equation*}\n",
        "\n",
        "We note the $Q$-function:\n",
        "\n",
        "\\begin{equation*}Q^\\pi(s,a)=E_{p^{\\pi}}[\\sum_{t\\leq T}\\gamma^{t}r(s_{t},a_{t})|s_{0}=s,a_{0}=a] \\> .\n",
        "\\end{equation*}\n",
        "\n",
        "Thus, the optimal Q function is:\n",
        "\\begin{equation*}\n",
        "Q^*(s,a)=\\max_{\\pi}Q^\\pi(s,a) \\> .\n",
        "\\end{equation*}\n",
        "\n",
        "In this project, we will apply the deep reinforcement learning techniques to a simple game: an agent will have to learn from scratch a policy that will permit it maximizing a reward."
      ]
    },
    {
      "cell_type": "markdown",
      "metadata": {
        "id": "hXbfy6vdl6RU",
        "colab_type": "text"
      },
      "source": [
        "## The environment, the agent and the game"
      ]
    },
    {
      "cell_type": "markdown",
      "metadata": {
        "id": "9vuQcb5xl6RV",
        "colab_type": "text"
      },
      "source": [
        "### The environment"
      ]
    },
    {
      "cell_type": "markdown",
      "metadata": {
        "id": "AIn2A1Sol6RW",
        "colab_type": "text"
      },
      "source": [
        "```Environment``` is an abstract class that represents the states, rewards, and actions to obtain the new state."
      ]
    },
    {
      "cell_type": "code",
      "metadata": {
        "id": "z6D_TClZl6RX",
        "colab_type": "code",
        "colab": {}
      },
      "source": [
        "class Environment(object):\n",
        "    def __init__(self):\n",
        "        pass\n",
        "\n",
        "    def act(self, act):\n",
        "        \"\"\"\n",
        "        One can act on the environment and obtain its reaction:\n",
        "        - the new state\n",
        "        - the reward of the new state\n",
        "        - should we continue the game?\n",
        "\n",
        "        :return: state, reward, game_over\n",
        "        \"\"\"\n",
        "        pass\n",
        "\n",
        "\n",
        "    def reset(self):\n",
        "        \"\"\"\n",
        "        Reinitialize the environment to a random state and returns\n",
        "        the original state\n",
        "\n",
        "        :return: state\n",
        "        \"\"\"\n",
        "        pass\n",
        "    \n",
        "    def draw(self):\n",
        "        \"\"\"\n",
        "        Visualize in the console or graphically the current state\n",
        "        \"\"\"\n",
        "        pass"
      ],
      "execution_count": 0,
      "outputs": []
    },
    {
      "cell_type": "markdown",
      "metadata": {
        "id": "bVpvKOdUl6Rb",
        "colab_type": "text"
      },
      "source": [
        "The method ```act``` allows to act on the environment at a given state $s_t$ (stored internally), via action $a_t$. The method will return the new state $s_{t+1}$, the reward $r(s_{t},a_{t})$ and determines if $t\\leq T$ (*game_over*).\n",
        "\n",
        "The method ```reset``` simply reinitializes the environment to a random state $s_0$.\n",
        "\n",
        "The method ```draw``` displays the current state $s_t$ (this is useful to check the behavior of the Agent).\n",
        "\n",
        "We modelize $s_t$ as a tensor, while $a_t$ is an integer."
      ]
    },
    {
      "cell_type": "markdown",
      "metadata": {
        "id": "1C0d-UoVl6Rc",
        "colab_type": "text"
      },
      "source": [
        "### The Agent"
      ]
    },
    {
      "cell_type": "markdown",
      "metadata": {
        "id": "2nooLuwXl6Rd",
        "colab_type": "text"
      },
      "source": [
        "The goal of the ```Agent``` is to interact with the ```Environment``` by proposing actions $a_t$ obtained from a given state $s_t$ to attempt to maximize its __reward__ $r(s_t,a_t)$. We propose the following abstract class:"
      ]
    },
    {
      "cell_type": "code",
      "metadata": {
        "id": "MIjUL6Swl6Rf",
        "colab_type": "code",
        "colab": {}
      },
      "source": [
        "class Agent(object):\n",
        "    def __init__(self, epsilon=0.1, n_action=4):\n",
        "        self.epsilon = epsilon\n",
        "        self.n_action = n_action\n",
        "    \n",
        "    def set_epsilon(self,e):\n",
        "        self.epsilon = e\n",
        "\n",
        "    def act(self,s,train=True):\n",
        "        \"\"\" This function should return the next action to do:\n",
        "        an integer between 0 and 4 (not included) with a random exploration of epsilon\"\"\"\n",
        "        if train:\n",
        "            if np.random.rand() <= self.epsilon:\n",
        "                a = np.random.randint(0, self.n_action, size=1)[0]\n",
        "            else:\n",
        "                a = self.learned_act(s)\n",
        "        else: # in some cases, this can improve the performance.. remove it if poor performances\n",
        "            a = self.learned_act(s)\n",
        "\n",
        "        return a\n",
        "\n",
        "    def learned_act(self,s):\n",
        "        \"\"\" Act via the policy of the agent, from a given state s\n",
        "        it proposes an action a\"\"\"\n",
        "        pass\n",
        "\n",
        "    def reinforce(self, s, n_s, a, r, game_over_):\n",
        "        \"\"\" This function is the core of the learning algorithm. \n",
        "        It takes as an input the current state s_, the next state n_s_\n",
        "        the action a_ used to move from s_ to n_s_ and the reward r_.\n",
        "        \n",
        "        Its goal is to learn a policy.\n",
        "        \"\"\"\n",
        "        pass\n",
        "\n",
        "    def save(self):\n",
        "        \"\"\" This function returns basic stats if applicable: the\n",
        "        loss and/or the model\"\"\"\n",
        "        pass\n",
        "\n",
        "    def load(self):\n",
        "        \"\"\" This function allows to restore a model\"\"\"\n",
        "        pass"
      ],
      "execution_count": 0,
      "outputs": []
    },
    {
      "cell_type": "markdown",
      "metadata": {
        "id": "xPSLE6EZl6Ro",
        "colab_type": "text"
      },
      "source": [
        "***\n",
        "__Question 1__:\n",
        "Explain the function act. Why is ```epsilon``` essential?"
      ]
    },
    {
      "cell_type": "markdown",
      "metadata": {
        "id": "4BOSPq5Pl6Rp",
        "colab_type": "text"
      },
      "source": [
        "The function act is an epsilon-greedy policy, it performs the best action learned by the algorithm with a probability 1-epsilon and a random action with a probability epsilon. This allows the agent to take trajectories that are not only dependent of his learning process and thus explorate the environment. The choice of epsilon allows us to choose the exploration-exploitation rate"
      ]
    },
    {
      "cell_type": "markdown",
      "metadata": {
        "id": "_fRUrbU-l6Rq",
        "colab_type": "text"
      },
      "source": [
        "***\n",
        "### The Game"
      ]
    },
    {
      "cell_type": "markdown",
      "metadata": {
        "id": "7dIJXxVel6Rr",
        "colab_type": "text"
      },
      "source": [
        "The ```Agent``` and the ```Environment``` work in an interlaced way as in the following (take some time to understand this code as it is the core of the project)\n",
        "\n",
        "```python\n",
        "\n",
        "epoch = 300\n",
        "env = Environment()\n",
        "agent = Agent()\n",
        "\n",
        "\n",
        "# Number of won games\n",
        "score = 0\n",
        "loss = 0\n",
        "\n",
        "\n",
        "for e in range(epoch):\n",
        "    # At each epoch, we restart to a fresh game and get the initial state\n",
        "    state = env.reset()\n",
        "    # This assumes that the games will end\n",
        "    game_over = False\n",
        "\n",
        "    win = 0\n",
        "    lose = 0\n",
        "    \n",
        "    while not game_over:\n",
        "        # The agent performs an action\n",
        "        action = agent.act(state)\n",
        "\n",
        "        # Apply an action to the environment, get the next state, the reward\n",
        "        # and if the games end\n",
        "        prev_state = state\n",
        "        state, reward, game_over = env.act(action)\n",
        "\n",
        "        # Update the counters\n",
        "        if reward > 0:\n",
        "            win = win + reward\n",
        "        if reward < 0:\n",
        "            lose = lose -reward\n",
        "\n",
        "        # Apply the reinforcement strategy\n",
        "        loss = agent.reinforce(prev_state, state,  action, reward, game_over)\n",
        "\n",
        "    # Save as a mp4\n",
        "    if e % 10 == 0:\n",
        "        env.draw(e)\n",
        "\n",
        "    # Update stats\n",
        "    score += win-lose\n",
        "\n",
        "    print(\"Epoch {:03d}/{:03d} | Loss {:.4f} | Win/lose count {}/{} ({})\"\n",
        "          .format(e, epoch, loss, win, lose, win-lose))\n",
        "    agent.save()\n",
        "```"
      ]
    },
    {
      "cell_type": "markdown",
      "metadata": {
        "id": "uVfFbBGUl6Rs",
        "colab_type": "text"
      },
      "source": [
        "# The game, *eat cheese*"
      ]
    },
    {
      "cell_type": "markdown",
      "metadata": {
        "id": "xvZqzJupl6Rt",
        "colab_type": "text"
      },
      "source": [
        "A rat runs on an island and tries to eat as much as possible. The island is subdivided into $N\\times N$ cells, in which there are cheese (+0.5) and poisonous cells (-1). The rat has a visibility of 2 cells (thus it can see $5^2$ cells). The rat is given a time $T$ to accumulate as much food as possible. It can perform 4 actions: going up, down, left, right. \n",
        "\n",
        "The goal is to code an agent to solve this task that will learn by trial and error. We propose the following environment:"
      ]
    },
    {
      "cell_type": "code",
      "metadata": {
        "id": "Tt8aOCELl6Ru",
        "colab_type": "code",
        "colab": {}
      },
      "source": [
        "class Environment(object):\n",
        "    def __init__(self, grid_size=10, max_time=500, temperature=0.1):\n",
        "        grid_size = grid_size+4\n",
        "        self.grid_size = grid_size\n",
        "        self.max_time = max_time\n",
        "        self.temperature = temperature\n",
        "\n",
        "        #board on which one plays\n",
        "        self.board = np.zeros((grid_size,grid_size))\n",
        "        self.position = np.zeros((grid_size,grid_size))\n",
        "\n",
        "        # coordinate of the cat\n",
        "        self.x = 0\n",
        "        self.y = 1\n",
        "\n",
        "        # self time\n",
        "        self.t = 0\n",
        "\n",
        "        self.scale=16\n",
        "\n",
        "        self.to_draw = np.zeros((max_time+2, grid_size*self.scale, grid_size*self.scale, 3))\n",
        "\n",
        "\n",
        "    def draw(self,e):\n",
        "        skvideo.io.vwrite(str(e) + '.mp4', self.to_draw)\n",
        "\n",
        "    def get_frame(self,t):\n",
        "        b = np.zeros((self.grid_size,self.grid_size,3))+128\n",
        "        b[self.board>0,0] = 256\n",
        "        b[self.board < 0, 2] = 256\n",
        "        b[self.x,self.y,:]=256\n",
        "        b[-2:,:,:]=0\n",
        "        b[:,-2:,:]=0\n",
        "        b[:2,:,:]=0\n",
        "        b[:,:2,:]=0\n",
        "        \n",
        "        b =  cv2.resize(b, None, fx=self.scale, fy=self.scale, interpolation=cv2.INTER_NEAREST)\n",
        "\n",
        "        self.to_draw[t,:,:,:]=b\n",
        "\n",
        "\n",
        "    def act(self, action):\n",
        "        \"\"\"This function returns the new state, reward and decides if the\n",
        "        game ends.\"\"\"\n",
        "\n",
        "        self.get_frame(int(self.t))\n",
        "\n",
        "        self.position = np.zeros((self.grid_size, self.grid_size))\n",
        "\n",
        "        self.position[0:2,:]= -1\n",
        "        self.position[:,0:2] = -1\n",
        "        self.position[-2:, :] = -1\n",
        "        self.position[-2:, :] = -1\n",
        "\n",
        "        self.position[self.x, self.y] = 1\n",
        "        if action == 0:\n",
        "            if self.x == self.grid_size-3:\n",
        "                self.x = self.x-1\n",
        "            else:\n",
        "                self.x = self.x + 1\n",
        "        elif action == 1:\n",
        "            if self.x == 2:\n",
        "                self.x = self.x+1\n",
        "            else:\n",
        "                self.x = self.x-1\n",
        "        elif action == 2:\n",
        "            if self.y == self.grid_size - 3:\n",
        "                self.y = self.y - 1\n",
        "            else:\n",
        "                self.y = self.y + 1\n",
        "        elif action == 3:\n",
        "            if self.y == 2:\n",
        "                self.y = self.y + 1\n",
        "            else:\n",
        "                self.y = self.y - 1\n",
        "        else:\n",
        "            RuntimeError('Error: action not recognized')\n",
        "\n",
        "        self.t = self.t + 1\n",
        "        reward = self.board[self.x, self.y]\n",
        "        self.board[self.x, self.y] = 0\n",
        "        game_over = self.t > self.max_time\n",
        "        state = np.concatenate((self.board.reshape(self.grid_size, self.grid_size,1),\n",
        "                        self.position.reshape(self.grid_size, self.grid_size,1)),axis=2)\n",
        "        state = state[self.x-2:self.x+3,self.y-2:self.y+3,:]\n",
        "\n",
        "        return state, reward, game_over\n",
        "\n",
        "    def reset(self):\n",
        "        \"\"\"This function resets the game and returns the initial state\"\"\"\n",
        "\n",
        "        self.x = np.random.randint(3, self.grid_size-3, size=1)[0]\n",
        "        self.y = np.random.randint(3, self.grid_size-3, size=1)[0]\n",
        "\n",
        "\n",
        "        bonus = 0.5*np.random.binomial(1,self.temperature,size=self.grid_size**2)\n",
        "        bonus = bonus.reshape(self.grid_size,self.grid_size)\n",
        "\n",
        "        malus = -1.0*np.random.binomial(1,self.temperature,size=self.grid_size**2)\n",
        "        malus = malus.reshape(self.grid_size, self.grid_size)\n",
        "\n",
        "        self.to_draw = np.zeros((self.max_time+2, self.grid_size*self.scale, self.grid_size*self.scale, 3))\n",
        "\n",
        "\n",
        "        malus[bonus>0]=0\n",
        "\n",
        "        self.board = bonus + malus\n",
        "\n",
        "        self.position = np.zeros((self.grid_size, self.grid_size))\n",
        "        self.position[0:2,:]= -1\n",
        "        self.position[:,0:2] = -1\n",
        "        self.position[-2:, :] = -1\n",
        "        self.position[-2:, :] = -1\n",
        "        self.board[self.x,self.y] = 0\n",
        "        self.t = 0\n",
        "\n",
        "        state = np.concatenate((\n",
        "                               self.board.reshape(self.grid_size, self.grid_size,1),\n",
        "                        self.position.reshape(self.grid_size, self.grid_size,1)),axis=2)\n",
        "\n",
        "        state = state[self.x - 2:self.x + 3, self.y - 2:self.y + 3, :]\n",
        "        return state"
      ],
      "execution_count": 0,
      "outputs": []
    },
    {
      "cell_type": "markdown",
      "metadata": {
        "id": "89MzOMmml6R0",
        "colab_type": "text"
      },
      "source": [
        "The following elements are important because they correspond to the hyper parameters for this project:"
      ]
    },
    {
      "cell_type": "code",
      "metadata": {
        "id": "7XrHRhznl6R2",
        "colab_type": "code",
        "colab": {}
      },
      "source": [
        "# parameters\n",
        "size = 13\n",
        "T=200\n",
        "temperature=0.3\n",
        "epochs_train=10 # set small when debugging\n",
        "epochs_test=10 # set small when debugging\n",
        "\n",
        "# display videos\n",
        "def display_videos(name):\n",
        "    video = io.open(name, 'r+b').read()\n",
        "    encoded = base64.b64encode(video)\n",
        "    return '''<video alt=\"test\" controls>\n",
        "                <source src=\"data:video/mp4;base64,{0}\" type=\"video/mp4\" />\n",
        "             </video>'''.format(encoded.decode('ascii'))"
      ],
      "execution_count": 0,
      "outputs": []
    },
    {
      "cell_type": "markdown",
      "metadata": {
        "id": "Bs8G4T1Kl6R9",
        "colab_type": "text"
      },
      "source": [
        "__Question 2__ Explain the use of the arrays ```position``` and ```board```."
      ]
    },
    {
      "cell_type": "markdown",
      "metadata": {
        "id": "2ryAX2_Sl6R-",
        "colab_type": "text"
      },
      "source": [
        "the position array indicate the position of the rat on the island and the board define the possible rewards on each case of the grid."
      ]
    },
    {
      "cell_type": "markdown",
      "metadata": {
        "id": "7WsgWJ_dl6R_",
        "colab_type": "text"
      },
      "source": [
        "## Random Agent"
      ]
    },
    {
      "cell_type": "markdown",
      "metadata": {
        "id": "CogI1XISl6SB",
        "colab_type": "text"
      },
      "source": [
        "***\n",
        "__Question 3__ Implement a random Agent (only ```learned_act``` needs to be implemented):"
      ]
    },
    {
      "cell_type": "code",
      "metadata": {
        "id": "ny3YX4-jl6SD",
        "colab_type": "code",
        "colab": {}
      },
      "source": [
        "class RandomAgent(Agent):\n",
        "    def __init__(self):\n",
        "        super(RandomAgent, self).__init__()\n",
        "        pass\n",
        "\n",
        "    def learned_act(self, s):\n",
        "        return np.random.randint(self.n_action)"
      ],
      "execution_count": 0,
      "outputs": []
    },
    {
      "cell_type": "markdown",
      "metadata": {
        "id": "Gcj35zPzl6SI",
        "colab_type": "text"
      },
      "source": [
        "***\n",
        "***\n",
        "__Question 4__ Visualize the game moves. You need to fill in the following function for the evaluation:"
      ]
    },
    {
      "cell_type": "code",
      "metadata": {
        "id": "ftn6qH1Ul6SJ",
        "colab_type": "code",
        "colab": {}
      },
      "source": [
        "def test(agent,env,epochs,prefix=''):\n",
        "    # Number of won games\n",
        "    score = 0\n",
        "        \n",
        "    for e in range(epochs):\n",
        "        # At each epoch, we restart to a fresh game and get the initial state\n",
        "        state = env.reset()\n",
        "        done = False\n",
        "\n",
        "        win = 0\n",
        "        lose = 0\n",
        "\n",
        "        while not done:\n",
        "            # The agent performs an action\n",
        "            action = agent.act(state)\n",
        "\n",
        "            # Apply an action to the environment, get the next state, the reward\n",
        "            # and if the games end\n",
        "            state, reward, done = env.act(action)\n",
        "\n",
        "            # Update the counters\n",
        "            if reward > 0:\n",
        "                win = win + reward\n",
        "            if reward < 0:\n",
        "                lose = lose - reward\n",
        "\n",
        "        # Save as a mp4\n",
        "        env.draw(prefix+str(e))\n",
        "\n",
        "        # Update stats\n",
        "        score = score + win-lose\n",
        "        \n",
        "        \n",
        "        # Save as a mp4\n",
        "        env.draw(prefix+str(e))\n",
        "\n",
        "        # Update stats\n",
        "        score = score + win-lose\n",
        "\n",
        "        print(\"Win/lose count {}/{}. Average score ({})\"\n",
        "              .format(win, lose, score/(1+e)))\n",
        "    print('Final score: '+str(score/epochs))"
      ],
      "execution_count": 0,
      "outputs": []
    },
    {
      "cell_type": "code",
      "metadata": {
        "id": "PfvnAZdNl6SM",
        "colab_type": "code",
        "outputId": "847e1bf3-0d11-4a21-bde3-662f92ec9abd",
        "colab": {
          "base_uri": "https://localhost:8080/",
          "height": 480
        }
      },
      "source": [
        "# Initialize the game\n",
        "env = Environment(grid_size=size, max_time=T,temperature=temperature)\n",
        "\n",
        "# Initialize the agent!\n",
        "agent = RandomAgent()\n",
        "\n",
        "test(agent,env,epochs_test,prefix='random')\n",
        "HTML(display_videos('random0.mp4'))"
      ],
      "execution_count": 0,
      "outputs": [
        {
          "output_type": "stream",
          "text": [
            "Win/lose count 10.5/13.0. Average score (-5.0)\n",
            "Win/lose count 7.0/11.0. Average score (-6.5)\n",
            "Win/lose count 8.0/15.0. Average score (-9.0)\n",
            "Win/lose count 7.5/9.0. Average score (-7.5)\n",
            "Win/lose count 8.5/13.0. Average score (-7.8)\n",
            "Win/lose count 11.0/15.0. Average score (-7.833333333333333)\n",
            "Win/lose count 11.5/7.0. Average score (-5.428571428571429)\n",
            "Win/lose count 9.5/17.0. Average score (-6.625)\n",
            "Win/lose count 10.0/12.0. Average score (-6.333333333333333)\n",
            "Win/lose count 9.0/10.0. Average score (-5.9)\n",
            "Final score: -5.9\n"
          ],
          "name": "stdout"
        },
        {
          "output_type": "execute_result",
          "data": {
            "text/html": [
              "<video alt=\"test\" controls>\n",
              "                <source src=\"data:video/mp4;base64,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\" type=\"video/mp4\" />\n",
              "             </video>"
            ],
            "text/plain": [
              "<IPython.core.display.HTML object>"
            ]
          },
          "metadata": {
            "tags": []
          },
          "execution_count": 10
        }
      ]
    },
    {
      "cell_type": "markdown",
      "metadata": {
        "id": "xBS65IHNl6SR",
        "colab_type": "text"
      },
      "source": [
        "***\n",
        "## DQN"
      ]
    },
    {
      "cell_type": "markdown",
      "metadata": {
        "id": "Qwzy-zpil6ST",
        "colab_type": "text"
      },
      "source": [
        "Let us assume here that $T=\\infty$.\n",
        "\n",
        "***\n",
        "__Question 5__ Let $\\pi$ be a policy, show that:\n",
        "\n",
        "\\begin{equation*}\n",
        "Q^{\\pi}(s,a)=E_{(s',a')\\sim p(.|s,a)}[r(s,a)+\\gamma Q^{\\pi}(s',a')]\n",
        "\\end{equation*}\n",
        "\n",
        "Then, show that for the optimal policy $\\pi^*$ (we assume its existence), the following holds: \n",
        "\n",
        "\\begin{equation*}\n",
        "Q^{*}(s,a)=E_{s'\\sim \\pi^*(.|s,a)}[r(s,a)+\\gamma\\max_{a'}Q^{*}(s',a')].\n",
        "\\end{equation*}\n",
        "Finally, deduce that a plausible objective is:\n",
        "\n",
        "\\begin{equation*}\n",
        "\\mathcal{L}(\\theta)=E_{s' \\sim \\pi^*(.|s,a)}\\Vert r+\\gamma\\max\\max_{a'}Q(s',a',\\theta)-Q(s,a,\\theta)\\Vert^{2}.\n",
        "\\end{equation*}\n",
        "\n",
        "\n"
      ]
    },
    {
      "cell_type": "markdown",
      "metadata": {
        "id": "J8sMLugEl6SU",
        "colab_type": "text"
      },
      "source": [
        ""
      ]
    },
    {
      "cell_type": "markdown",
      "metadata": {
        "id": "VZGBaQwhl6SV",
        "colab_type": "text"
      },
      "source": [
        "***\n",
        "The DQN-learning algorithm relies on these derivations to train the parameters $\\theta$ of a Deep Neural Network:\n",
        "\n",
        "1. At the state $s_t$, select the action $a_t$ with best reward using $Q_t$ and store the results;\n",
        "\n",
        "2. Obtain the new state $s_{t+1}$ from the environment $p$;\n",
        "\n",
        "3. Store $(s_t,a_t,s_{t+1})$;\n",
        "\n",
        "4. Obtain $Q_{t+1}$ by minimizing  $\\mathcal{L}$ from a recovered batch from the previously stored results.\n",
        "\n",
        "***\n",
        "__Question 6__ Implement the class ```Memory``` that stores moves (in a replay buffer) via ```remember``` and provides a ```random_access``` to these. Specify a maximum memory size to avoid side effects. You can for example use a ```list()``` and set by default ```max_memory=100```."
      ]
    },
    {
      "cell_type": "code",
      "metadata": {
        "id": "A-6kHcLFl6SX",
        "colab_type": "code",
        "colab": {}
      },
      "source": [
        "from collections import deque\n",
        "class Memory(object):\n",
        "    def __init__(self, max_memory=100):\n",
        "        self.max_memory = max_memory\n",
        "        #We use the deque structure to keep updating our memory with the new samples\n",
        "        self.memory = deque(maxlen=self.max_memory)\n",
        "\n",
        "    def remember(self, m):\n",
        "        self.memory.append(m)\n",
        "\n",
        "    def random_access(self):\n",
        "        return self.memory[np.random.randint(len(self.memory))]"
      ],
      "execution_count": 0,
      "outputs": []
    },
    {
      "cell_type": "markdown",
      "metadata": {
        "id": "Fri8oOAsl6Sb",
        "colab_type": "text"
      },
      "source": [
        "***\n",
        "The pipeline we will use for training is given below:"
      ]
    },
    {
      "cell_type": "code",
      "metadata": {
        "id": "8AzahgY9l6Sc",
        "colab_type": "code",
        "colab": {}
      },
      "source": [
        "def train(agent,env,epoch,prefix=''):\n",
        "    # Number of won games\n",
        "    score = 0\n",
        "    loss = 0\n",
        "\n",
        "    for e in range(epoch):\n",
        "        # At each epoch, we restart to a fresh game and get the initial state\n",
        "        state = env.reset()\n",
        "        # This assumes that the games will terminate\n",
        "        game_over = False\n",
        "\n",
        "        win = 0\n",
        "        lose = 0\n",
        "\n",
        "        while not game_over:\n",
        "            # The agent performs an action\n",
        "            action = agent.act(state)\n",
        "\n",
        "            # Apply an action to the environment, get the next state, the reward\n",
        "            # and if the games end\n",
        "            prev_state = state\n",
        "            state, reward, game_over = env.act(action)\n",
        "\n",
        "            # Update the counters\n",
        "            if reward > 0:\n",
        "                win = win + reward\n",
        "            if reward < 0:\n",
        "                lose = lose -reward\n",
        "\n",
        "            # Apply the reinforcement strategy\n",
        "            loss = agent.reinforce(prev_state, state,  action, reward, game_over)\n",
        "\n",
        "        # Save as a mp4\n",
        "        if e % 10 == 0:\n",
        "            env.draw(prefix+str(e))\n",
        "\n",
        "        # Update stats\n",
        "        score += win-lose\n",
        "\n",
        "        print(\"Epoch {:03d}/{:03d} | Loss {:.4f} | Win/lose count {}/{} ({})\"\n",
        "              .format(e, epoch, loss, win, lose, win-lose))\n",
        "        agent.save(name_weights=prefix+'model.h5',name_model=prefix+'model.json')"
      ],
      "execution_count": 0,
      "outputs": []
    },
    {
      "cell_type": "markdown",
      "metadata": {
        "id": "02be7wdCl6Sf",
        "colab_type": "text"
      },
      "source": [
        "***\n",
        "__Question 7__ Implement the DQN training algorithm using a cascade of fully connected layers. You can use different learning rate, batch size or memory size parameters. In particular, the loss might oscillate while the player will start to win the games. You have to find a good criterium."
      ]
    },
    {
      "cell_type": "code",
      "metadata": {
        "id": "VNgahiDXl6Sg",
        "colab_type": "code",
        "colab": {}
      },
      "source": [
        "class DQN(Agent):\n",
        "    def __init__(self, grid_size,  epsilon = 0.1, memory_size=100, batch_size = 16,n_state=2):\n",
        "        super(DQN, self).__init__(epsilon = epsilon)\n",
        "\n",
        "        # Discount for Q learning\n",
        "        self.discount = 0.99\n",
        "        \n",
        "        self.grid_size = grid_size\n",
        "        \n",
        "        # number of state\n",
        "        self.n_state = n_state\n",
        "\n",
        "        # Memory\n",
        "        self.memory = Memory(memory_size)\n",
        "        \n",
        "        # Batch size when learning\n",
        "        self.batch_size = batch_size\n",
        "\n",
        "    def learned_act(self, s_):\n",
        "        return np.argmax(self.model.predict(s_.reshape([1,s_.shape[0],s_.shape[1],s_.shape[2]])))\n",
        "\n",
        "    def reinforce(self, s_, n_s_, a_, r_, game_over_):\n",
        "        # Two steps: first memorize the states, second learn from the pool\n",
        "        #add the sample to the replay buffer\n",
        "        self.memory.remember([s_, n_s_, a_, r_, game_over_])\n",
        "        #sample from the replay buffer\n",
        "        input_states = np.zeros((self.batch_size, 5,5,self.n_state))\n",
        "        target_q = np.zeros((self.batch_size, 4))\n",
        "        \n",
        "        for i in range(self.batch_size):\n",
        "            s_, n_s_, a_, r_, game_over_  = self.memory.random_access()\n",
        "            \n",
        "            target_q[i] =self.model.predict(s_.reshape([1,s_.shape[0],s_.shape[1],s_.shape[2]]))\n",
        "            \n",
        "            if game_over_:\n",
        "                input_states[i] = s_\n",
        "                target_q[i,a_] = r_\n",
        "            else:\n",
        "                input_states[i] = s_\n",
        "                target_q[i][a_] = r_ + self.discount * np.max(self.model.predict(n_s_.reshape([1,n_s_.shape[0],n_s_.shape[1],n_s_.shape[2]])))\n",
        "\n",
        "        target_q = np.clip(target_q, -3, 3)\n",
        "\n",
        "        l = self.model.train_on_batch(input_states, target_q)\n",
        "\n",
        "\n",
        "        return l\n",
        "\n",
        "    def save(self,name_weights='model.h5',name_model='model.json'):\n",
        "        self.model.save_weights(name_weights, overwrite=True)\n",
        "        with open(name_model, \"w\") as outfile:\n",
        "            json.dump(self.model.to_json(), outfile)\n",
        "            \n",
        "    def load(self,name_weights='model.h5',name_model='model.json'):\n",
        "        with open(name_model, \"r\") as jfile:\n",
        "            model = model_from_json(json.load(jfile))\n",
        "        model.load_weights(name_weights)\n",
        "        model.compile(\"sgd\", \"mse\")\n",
        "        self.model = model\n",
        "\n",
        "            \n",
        "class DQN_FC(DQN):\n",
        "    def __init__(self, *args, lr=0.1,**kwargs):\n",
        "        super(DQN_FC, self).__init__( *args,**kwargs)\n",
        "        \n",
        "        model = Sequential()\n",
        "        model.add(Flatten(input_shape=(5,5,self.n_state)))\n",
        "        model.add(Dense(50, activation ='relu'))\n",
        "        model.add(Dense(50, activation='relu'))\n",
        "        model.add(Dense(4, activation='relu'))\n",
        "        \n",
        "        model.compile(sgd(lr=lr, decay=1e-4, momentum=0.0), \"mse\")\n",
        "        self.model = model\n",
        "        \n",
        "        model.compile(sgd(lr=lr, decay=1e-4, momentum=0.0), \"mse\")\n",
        "        self.model = model\n",
        "        "
      ],
      "execution_count": 0,
      "outputs": []
    },
    {
      "cell_type": "code",
      "metadata": {
        "id": "w6nkcCxNl6Sn",
        "colab_type": "code",
        "outputId": "cdd9e4b8-463a-4353-dede-3bfddd41888c",
        "colab": {
          "base_uri": "https://localhost:8080/",
          "height": 1000
        }
      },
      "source": [
        "import warnings \n",
        "warnings.filterwarnings('ignore')\n",
        "env = Environment(grid_size=size, max_time=T, temperature=0.3)\n",
        "agent = DQN_FC(size, lr=.1, epsilon = 0.1, memory_size=2000, batch_size = 32)\n",
        "epochs_train=101\n",
        "train(agent, env, epochs_train, prefix='fc_train')\n",
        "HTML(display_videos('fc_train100.mp4'))"
      ],
      "execution_count": 0,
      "outputs": [
        {
          "output_type": "stream",
          "text": [
            "Epoch 000/101 | Loss 0.0063 | Win/lose count 5.5/3.0 (2.5)\n",
            "Epoch 001/101 | Loss 0.0008 | Win/lose count 2.0/1.0 (1.0)\n",
            "Epoch 002/101 | Loss 0.0054 | Win/lose count 3.0/4.0 (-1.0)\n",
            "Epoch 003/101 | Loss 0.0043 | Win/lose count 4.0/10.0 (-6.0)\n",
            "Epoch 004/101 | Loss 0.0079 | Win/lose count 5.0/9.0 (-4.0)\n",
            "Epoch 005/101 | Loss 0.0014 | Win/lose count 2.0/3.0 (-1.0)\n",
            "Epoch 006/101 | Loss 0.0182 | Win/lose count 3.0/2.0 (1.0)\n",
            "Epoch 007/101 | Loss 0.0079 | Win/lose count 2.5/7.0 (-4.5)\n",
            "Epoch 008/101 | Loss 0.0100 | Win/lose count 4.0/1.0 (3.0)\n",
            "Epoch 009/101 | Loss 0.0176 | Win/lose count 1.5/1.0 (0.5)\n",
            "Epoch 010/101 | Loss 0.0060 | Win/lose count 2.5/2.0 (0.5)\n",
            "Epoch 011/101 | Loss 0.0108 | Win/lose count 4.5/3.0 (1.5)\n",
            "Epoch 012/101 | Loss 0.0053 | Win/lose count 4.0/0 (4.0)\n",
            "Epoch 013/101 | Loss 0.0162 | Win/lose count 5.0/12.0 (-7.0)\n",
            "Epoch 014/101 | Loss 0.0016 | Win/lose count 1.5/3.0 (-1.5)\n",
            "Epoch 015/101 | Loss 0.0485 | Win/lose count 5.0/2.0 (3.0)\n",
            "Epoch 016/101 | Loss 0.0042 | Win/lose count 1.5/3.0 (-1.5)\n",
            "Epoch 017/101 | Loss 0.0168 | Win/lose count 5.5/1.0 (4.5)\n",
            "Epoch 018/101 | Loss 0.0075 | Win/lose count 3.0/3.0 (0.0)\n",
            "Epoch 019/101 | Loss 0.0243 | Win/lose count 5.0/2.0 (3.0)\n",
            "Epoch 020/101 | Loss 0.1427 | Win/lose count 2.0/3.0 (-1.0)\n",
            "Epoch 021/101 | Loss 0.1094 | Win/lose count 10.0/5.0 (5.0)\n",
            "Epoch 022/101 | Loss 0.1007 | Win/lose count 1.0/2.0 (-1.0)\n",
            "Epoch 023/101 | Loss 0.0166 | Win/lose count 5.0/5.0 (0.0)\n",
            "Epoch 024/101 | Loss 0.0769 | Win/lose count 5.5/2.0 (3.5)\n",
            "Epoch 025/101 | Loss 0.0457 | Win/lose count 5.0/6.0 (-1.0)\n",
            "Epoch 026/101 | Loss 0.0097 | Win/lose count 2.0/1.0 (1.0)\n",
            "Epoch 027/101 | Loss 0.0120 | Win/lose count 6.0/5.0 (1.0)\n",
            "Epoch 028/101 | Loss 0.0249 | Win/lose count 5.0/3.0 (2.0)\n",
            "Epoch 029/101 | Loss 0.0027 | Win/lose count 1.5/2.0 (-0.5)\n",
            "Epoch 030/101 | Loss 0.0468 | Win/lose count 3.5/4.0 (-0.5)\n",
            "Epoch 031/101 | Loss 0.0061 | Win/lose count 6.0/2.0 (4.0)\n",
            "Epoch 032/101 | Loss 0.0028 | Win/lose count 2.5/2.0 (0.5)\n",
            "Epoch 033/101 | Loss 0.0629 | Win/lose count 4.5/2.0 (2.5)\n",
            "Epoch 034/101 | Loss 0.0532 | Win/lose count 2.0/2.0 (0.0)\n",
            "Epoch 035/101 | Loss 0.1333 | Win/lose count 8.5/2.0 (6.5)\n",
            "Epoch 036/101 | Loss 0.1132 | Win/lose count 3.0/1.0 (2.0)\n",
            "Epoch 037/101 | Loss 0.0989 | Win/lose count 4.0/3.0 (1.0)\n",
            "Epoch 038/101 | Loss 0.0019 | Win/lose count 2.5/2.0 (0.5)\n",
            "Epoch 039/101 | Loss 0.0040 | Win/lose count 10.5/4.0 (6.5)\n",
            "Epoch 040/101 | Loss 0.0042 | Win/lose count 9.0/4.0 (5.0)\n",
            "Epoch 041/101 | Loss 0.0059 | Win/lose count 2.5/2.0 (0.5)\n",
            "Epoch 042/101 | Loss 0.0479 | Win/lose count 8.0/5.0 (3.0)\n",
            "Epoch 043/101 | Loss 0.0905 | Win/lose count 3.5/3.0 (0.5)\n",
            "Epoch 044/101 | Loss 0.0040 | Win/lose count 5.5/3.0 (2.5)\n",
            "Epoch 045/101 | Loss 0.0055 | Win/lose count 7.5/5.0 (2.5)\n",
            "Epoch 046/101 | Loss 0.0851 | Win/lose count 2.5/1.0 (1.5)\n",
            "Epoch 047/101 | Loss 0.0018 | Win/lose count 2.0/1.0 (1.0)\n",
            "Epoch 048/101 | Loss 0.0764 | Win/lose count 8.0/0 (8.0)\n",
            "Epoch 049/101 | Loss 0.0035 | Win/lose count 10.0/2.0 (8.0)\n",
            "Epoch 050/101 | Loss 0.0030 | Win/lose count 8.5/3.0 (5.5)\n",
            "Epoch 051/101 | Loss 0.0036 | Win/lose count 2.0/3.0 (-1.0)\n",
            "Epoch 052/101 | Loss 0.0038 | Win/lose count 9.5/3.0 (6.5)\n",
            "Epoch 053/101 | Loss 0.0297 | Win/lose count 4.0/2.0 (2.0)\n",
            "Epoch 054/101 | Loss 0.0891 | Win/lose count 4.0/1.0 (3.0)\n",
            "Epoch 055/101 | Loss 0.1127 | Win/lose count 7.0/3.0 (4.0)\n",
            "Epoch 056/101 | Loss 0.1976 | Win/lose count 3.5/0 (3.5)\n",
            "Epoch 057/101 | Loss 0.0518 | Win/lose count 4.5/3.0 (1.5)\n",
            "Epoch 058/101 | Loss 0.0910 | Win/lose count 4.0/3.0 (1.0)\n",
            "Epoch 059/101 | Loss 0.1223 | Win/lose count 2.0/3.0 (-1.0)\n",
            "Epoch 060/101 | Loss 0.0524 | Win/lose count 2.5/2.0 (0.5)\n",
            "Epoch 061/101 | Loss 0.0052 | Win/lose count 4.5/0 (4.5)\n",
            "Epoch 062/101 | Loss 0.0492 | Win/lose count 6.0/3.0 (3.0)\n",
            "Epoch 063/101 | Loss 0.1130 | Win/lose count 9.0/6.0 (3.0)\n",
            "Epoch 064/101 | Loss 0.0653 | Win/lose count 8.0/5.0 (3.0)\n",
            "Epoch 065/101 | Loss 0.0497 | Win/lose count 9.5/5.0 (4.5)\n",
            "Epoch 066/101 | Loss 0.0418 | Win/lose count 9.5/1.0 (8.5)\n",
            "Epoch 067/101 | Loss 0.0247 | Win/lose count 9.5/1.0 (8.5)\n",
            "Epoch 068/101 | Loss 0.0587 | Win/lose count 6.0/4.0 (2.0)\n",
            "Epoch 069/101 | Loss 0.0012 | Win/lose count 7.5/2.0 (5.5)\n",
            "Epoch 070/101 | Loss 0.0465 | Win/lose count 9.0/0 (9.0)\n",
            "Epoch 071/101 | Loss 0.0494 | Win/lose count 7.5/2.0 (5.5)\n",
            "Epoch 072/101 | Loss 0.0581 | Win/lose count 7.0/3.0 (4.0)\n",
            "Epoch 073/101 | Loss 0.0905 | Win/lose count 3.0/1.0 (2.0)\n",
            "Epoch 074/101 | Loss 0.0908 | Win/lose count 7.5/3.0 (4.5)\n",
            "Epoch 075/101 | Loss 0.0414 | Win/lose count 8.0/2.0 (6.0)\n",
            "Epoch 076/101 | Loss 0.0659 | Win/lose count 15.0/4.0 (11.0)\n",
            "Epoch 077/101 | Loss 0.0115 | Win/lose count 13.0/4.0 (9.0)\n",
            "Epoch 078/101 | Loss 0.0580 | Win/lose count 4.0/2.0 (2.0)\n",
            "Epoch 079/101 | Loss 0.1175 | Win/lose count 5.0/2.0 (3.0)\n",
            "Epoch 080/101 | Loss 0.0038 | Win/lose count 2.5/2.0 (0.5)\n",
            "Epoch 081/101 | Loss 0.1004 | Win/lose count 5.5/2.0 (3.5)\n",
            "Epoch 082/101 | Loss 0.0382 | Win/lose count 7.5/2.0 (5.5)\n",
            "Epoch 083/101 | Loss 0.1367 | Win/lose count 9.0/1.0 (8.0)\n",
            "Epoch 084/101 | Loss 0.0549 | Win/lose count 3.5/1.0 (2.5)\n",
            "Epoch 085/101 | Loss 0.0401 | Win/lose count 11.5/1.0 (10.5)\n",
            "Epoch 086/101 | Loss 0.0029 | Win/lose count 4.5/1.0 (3.5)\n",
            "Epoch 087/101 | Loss 0.0007 | Win/lose count 1.5/0 (1.5)\n",
            "Epoch 088/101 | Loss 0.0503 | Win/lose count 11.0/1.0 (10.0)\n",
            "Epoch 089/101 | Loss 0.0908 | Win/lose count 6.0/1.0 (5.0)\n",
            "Epoch 090/101 | Loss 0.0470 | Win/lose count 3.0/2.0 (1.0)\n",
            "Epoch 091/101 | Loss 0.0898 | Win/lose count 9.5/1.0 (8.5)\n",
            "Epoch 092/101 | Loss 0.0468 | Win/lose count 10.0/3.0 (7.0)\n",
            "Epoch 093/101 | Loss 0.0992 | Win/lose count 3.0/2.0 (1.0)\n",
            "Epoch 094/101 | Loss 0.0616 | Win/lose count 7.0/1.0 (6.0)\n",
            "Epoch 095/101 | Loss 0.0403 | Win/lose count 6.5/0 (6.5)\n",
            "Epoch 096/101 | Loss 0.0031 | Win/lose count 6.0/3.0 (3.0)\n",
            "Epoch 097/101 | Loss 0.0055 | Win/lose count 7.5/1.0 (6.5)\n",
            "Epoch 098/101 | Loss 0.0432 | Win/lose count 6.0/1.0 (5.0)\n",
            "Epoch 099/101 | Loss 0.0453 | Win/lose count 2.0/1.0 (1.0)\n",
            "Epoch 100/101 | Loss 0.1461 | Win/lose count 4.0/3.0 (1.0)\n"
          ],
          "name": "stdout"
        },
        {
          "output_type": "execute_result",
          "data": {
            "text/html": [
              "<video alt=\"test\" controls>\n",
              "                <source src=\"data:video/mp4;base64,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\" type=\"video/mp4\" />\n",
              "             </video>"
            ],
            "text/plain": [
              "<IPython.core.display.HTML object>"
            ]
          },
          "metadata": {
            "tags": []
          },
          "execution_count": 24
        }
      ]
    },
    {
      "cell_type": "markdown",
      "metadata": {
        "id": "578_USnpl6Su",
        "colab_type": "text"
      },
      "source": [
        "***\n",
        "***\n",
        "__Question 8__ Implement the DQN training algorithm using a CNN (for example, 2 convolutional layers and one final fully connected layer)."
      ]
    },
    {
      "cell_type": "code",
      "metadata": {
        "id": "GJZwnQdXl6Su",
        "colab_type": "code",
        "colab": {}
      },
      "source": [
        "class DQN_CNN(DQN):\n",
        "    def __init__(self, *args,lr=0.1,**kwargs):\n",
        "        super(DQN_CNN, self).__init__(*args,**kwargs)\n",
        "        \n",
        "        model = Sequential()\n",
        "        model.add(Conv2D(64, kernel_size=3, activation=\"relu\", input_shape=(5, 5, self.n_state)))\n",
        "        model.add(Conv2D(32, kernel_size=3, activation=\"relu\"))\n",
        "        model.add(Flatten())\n",
        "        model.add(Dense(4, activation=\"linear\"))\n",
        "        \n",
        "        model.compile(sgd(lr=lr, decay=1e-4, momentum=0.0), \"mse\")\n",
        "        self.model = model"
      ],
      "execution_count": 0,
      "outputs": []
    },
    {
      "cell_type": "code",
      "metadata": {
        "id": "Vw2YReAtl6Sx",
        "colab_type": "code",
        "outputId": "3b7d340e-1c0a-4482-e4ed-ef71b589878e",
        "colab": {
          "base_uri": "https://localhost:8080/",
          "height": 1000
        }
      },
      "source": [
        "env = Environment(grid_size=size, max_time=T, temperature=0.3)\n",
        "agent = DQN_CNN(size, lr=.1, epsilon = 0.1, memory_size=2000, batch_size = 32)\n",
        "train(agent,env,epochs_train,prefix='cnn_train')\n",
        "HTML(display_videos('cnn_train100.mp4'))"
      ],
      "execution_count": 0,
      "outputs": [
        {
          "output_type": "stream",
          "text": [
            "Epoch 000/101 | Loss 0.0049 | Win/lose count 1.5/1.0 (0.5)\n",
            "Epoch 001/101 | Loss 0.0006 | Win/lose count 2.0/6.0 (-4.0)\n",
            "Epoch 002/101 | Loss 0.0012 | Win/lose count 0.5/1.0 (-0.5)\n",
            "Epoch 003/101 | Loss 0.0096 | Win/lose count 4.5/3.0 (1.5)\n",
            "Epoch 004/101 | Loss 0.0025 | Win/lose count 1.0/0 (1.0)\n",
            "Epoch 005/101 | Loss 0.0018 | Win/lose count 5.0/4.0 (1.0)\n",
            "Epoch 006/101 | Loss 0.0031 | Win/lose count 4.5/2.0 (2.5)\n",
            "Epoch 007/101 | Loss 0.0512 | Win/lose count 4.5/2.0 (2.5)\n",
            "Epoch 008/101 | Loss 0.0026 | Win/lose count 3.5/2.0 (1.5)\n",
            "Epoch 009/101 | Loss 0.0529 | Win/lose count 3.5/0 (3.5)\n",
            "Epoch 010/101 | Loss 0.0022 | Win/lose count 4.0/1.0 (3.0)\n",
            "Epoch 011/101 | Loss 0.0040 | Win/lose count 1.5/2.0 (-0.5)\n",
            "Epoch 012/101 | Loss 0.0023 | Win/lose count 6.5/6.0 (0.5)\n",
            "Epoch 013/101 | Loss 0.0556 | Win/lose count 4.0/0 (4.0)\n",
            "Epoch 014/101 | Loss 0.0016 | Win/lose count 5.5/4.0 (1.5)\n",
            "Epoch 015/101 | Loss 0.0030 | Win/lose count 11.5/7.0 (4.5)\n",
            "Epoch 016/101 | Loss 0.0016 | Win/lose count 4.5/0 (4.5)\n",
            "Epoch 017/101 | Loss 0.0741 | Win/lose count 10.5/5.0 (5.5)\n",
            "Epoch 018/101 | Loss 0.0005 | Win/lose count 2.5/2.0 (0.5)\n",
            "Epoch 019/101 | Loss 0.0019 | Win/lose count 9.5/4.0 (5.5)\n",
            "Epoch 020/101 | Loss 0.0481 | Win/lose count 4.5/2.0 (2.5)\n",
            "Epoch 021/101 | Loss 0.0034 | Win/lose count 14.0/3.0 (11.0)\n",
            "Epoch 022/101 | Loss 0.0020 | Win/lose count 11.0/1.0 (10.0)\n",
            "Epoch 023/101 | Loss 0.0025 | Win/lose count 16.0/6.0 (10.0)\n",
            "Epoch 024/101 | Loss 0.0040 | Win/lose count 8.0/0 (8.0)\n",
            "Epoch 025/101 | Loss 0.0012 | Win/lose count 1.5/2.0 (-0.5)\n",
            "Epoch 026/101 | Loss 0.0023 | Win/lose count 11.5/1.0 (10.5)\n",
            "Epoch 027/101 | Loss 0.0015 | Win/lose count 4.5/1.0 (3.5)\n",
            "Epoch 028/101 | Loss 0.0488 | Win/lose count 6.5/1.0 (5.5)\n",
            "Epoch 029/101 | Loss 0.0508 | Win/lose count 3.5/2.0 (1.5)\n",
            "Epoch 030/101 | Loss 0.0013 | Win/lose count 6.0/0 (6.0)\n",
            "Epoch 031/101 | Loss 0.0417 | Win/lose count 14.5/4.0 (10.5)\n",
            "Epoch 032/101 | Loss 0.0022 | Win/lose count 5.5/0 (5.5)\n",
            "Epoch 033/101 | Loss 0.0034 | Win/lose count 11.0/3.0 (8.0)\n",
            "Epoch 034/101 | Loss 0.0548 | Win/lose count 7.5/2.0 (5.5)\n",
            "Epoch 035/101 | Loss 0.0017 | Win/lose count 15.0/3.0 (12.0)\n",
            "Epoch 036/101 | Loss 0.0514 | Win/lose count 17.0/5.0 (12.0)\n",
            "Epoch 037/101 | Loss 0.0009 | Win/lose count 5.5/2.0 (3.5)\n",
            "Epoch 038/101 | Loss 0.0011 | Win/lose count 10.5/3.0 (7.5)\n",
            "Epoch 039/101 | Loss 0.0016 | Win/lose count 10.5/2.0 (8.5)\n",
            "Epoch 040/101 | Loss 0.0031 | Win/lose count 15.5/1.0 (14.5)\n",
            "Epoch 041/101 | Loss 0.0033 | Win/lose count 19.0/1.0 (18.0)\n",
            "Epoch 042/101 | Loss 0.0009 | Win/lose count 10.0/1.0 (9.0)\n",
            "Epoch 043/101 | Loss 0.0013 | Win/lose count 15.5/3.0 (12.5)\n",
            "Epoch 044/101 | Loss 0.0026 | Win/lose count 15.0/5.0 (10.0)\n",
            "Epoch 045/101 | Loss 0.0090 | Win/lose count 17.5/3.0 (14.5)\n",
            "Epoch 046/101 | Loss 0.0038 | Win/lose count 7.5/1.0 (6.5)\n",
            "Epoch 047/101 | Loss 0.0023 | Win/lose count 14.5/3.0 (11.5)\n",
            "Epoch 048/101 | Loss 0.0040 | Win/lose count 15.5/5.0 (10.5)\n",
            "Epoch 049/101 | Loss 0.0525 | Win/lose count 14.5/2.0 (12.5)\n",
            "Epoch 050/101 | Loss 0.0562 | Win/lose count 5.5/1.0 (4.5)\n",
            "Epoch 051/101 | Loss 0.0032 | Win/lose count 12.5/5.0 (7.5)\n",
            "Epoch 052/101 | Loss 0.0025 | Win/lose count 10.0/2.0 (8.0)\n",
            "Epoch 053/101 | Loss 0.0012 | Win/lose count 14.0/3.0 (11.0)\n",
            "Epoch 054/101 | Loss 0.0024 | Win/lose count 11.0/2.0 (9.0)\n",
            "Epoch 055/101 | Loss 0.0013 | Win/lose count 14.5/1.0 (13.5)\n",
            "Epoch 056/101 | Loss 0.0024 | Win/lose count 11.0/1.0 (10.0)\n",
            "Epoch 057/101 | Loss 0.0012 | Win/lose count 13.0/3.0 (10.0)\n",
            "Epoch 058/101 | Loss 0.0034 | Win/lose count 18.5/1.0 (17.5)\n",
            "Epoch 059/101 | Loss 0.0424 | Win/lose count 20.5/2.0 (18.5)\n",
            "Epoch 060/101 | Loss 0.0029 | Win/lose count 16.0/2.0 (14.0)\n",
            "Epoch 061/101 | Loss 0.0023 | Win/lose count 7.5/1.0 (6.5)\n",
            "Epoch 062/101 | Loss 0.0949 | Win/lose count 8.0/2.0 (6.0)\n",
            "Epoch 063/101 | Loss 0.0012 | Win/lose count 13.0/4.0 (9.0)\n",
            "Epoch 064/101 | Loss 0.0035 | Win/lose count 17.5/0 (17.5)\n",
            "Epoch 065/101 | Loss 0.0021 | Win/lose count 15.5/1.0 (14.5)\n",
            "Epoch 066/101 | Loss 0.0013 | Win/lose count 4.0/0 (4.0)\n",
            "Epoch 067/101 | Loss 0.0492 | Win/lose count 7.5/1.0 (6.5)\n",
            "Epoch 068/101 | Loss 0.0041 | Win/lose count 9.0/2.0 (7.0)\n",
            "Epoch 069/101 | Loss 0.0090 | Win/lose count 20.5/2.0 (18.5)\n",
            "Epoch 070/101 | Loss 0.0028 | Win/lose count 5.5/1.0 (4.5)\n",
            "Epoch 071/101 | Loss 0.0038 | Win/lose count 22.0/6.0 (16.0)\n",
            "Epoch 072/101 | Loss 0.0016 | Win/lose count 13.0/2.0 (11.0)\n",
            "Epoch 073/101 | Loss 0.0014 | Win/lose count 12.5/8.0 (4.5)\n",
            "Epoch 074/101 | Loss 0.0494 | Win/lose count 6.0/1.0 (5.0)\n",
            "Epoch 075/101 | Loss 0.0058 | Win/lose count 16.5/1.0 (15.5)\n",
            "Epoch 076/101 | Loss 0.0044 | Win/lose count 7.0/2.0 (5.0)\n",
            "Epoch 077/101 | Loss 0.0018 | Win/lose count 20.0/2.0 (18.0)\n",
            "Epoch 078/101 | Loss 0.0047 | Win/lose count 19.5/2.0 (17.5)\n",
            "Epoch 079/101 | Loss 0.0030 | Win/lose count 21.0/2.0 (19.0)\n",
            "Epoch 080/101 | Loss 0.0019 | Win/lose count 5.0/1.0 (4.0)\n",
            "Epoch 081/101 | Loss 0.0024 | Win/lose count 18.0/2.0 (16.0)\n",
            "Epoch 082/101 | Loss 0.0526 | Win/lose count 12.0/2.0 (10.0)\n",
            "Epoch 083/101 | Loss 0.0017 | Win/lose count 13.0/3.0 (10.0)\n",
            "Epoch 084/101 | Loss 0.0044 | Win/lose count 11.0/4.0 (7.0)\n",
            "Epoch 085/101 | Loss 0.0012 | Win/lose count 20.5/1.0 (19.5)\n",
            "Epoch 086/101 | Loss 0.0671 | Win/lose count 5.5/3.0 (2.5)\n",
            "Epoch 087/101 | Loss 0.0561 | Win/lose count 16.0/4.0 (12.0)\n",
            "Epoch 088/101 | Loss 0.0015 | Win/lose count 8.5/3.0 (5.5)\n",
            "Epoch 089/101 | Loss 0.0022 | Win/lose count 13.0/3.0 (10.0)\n",
            "Epoch 090/101 | Loss 0.0015 | Win/lose count 16.0/5.0 (11.0)\n",
            "Epoch 091/101 | Loss 0.0028 | Win/lose count 14.0/2.0 (12.0)\n",
            "Epoch 092/101 | Loss 0.0040 | Win/lose count 16.5/4.0 (12.5)\n",
            "Epoch 093/101 | Loss 0.0015 | Win/lose count 15.0/4.0 (11.0)\n",
            "Epoch 094/101 | Loss 0.0025 | Win/lose count 8.5/2.0 (6.5)\n",
            "Epoch 095/101 | Loss 0.0032 | Win/lose count 10.5/2.0 (8.5)\n",
            "Epoch 096/101 | Loss 0.0020 | Win/lose count 9.0/2.0 (7.0)\n",
            "Epoch 097/101 | Loss 0.0049 | Win/lose count 16.0/3.0 (13.0)\n",
            "Epoch 098/101 | Loss 0.0026 | Win/lose count 8.5/1.0 (7.5)\n",
            "Epoch 099/101 | Loss 0.0555 | Win/lose count 21.0/0 (21.0)\n",
            "Epoch 100/101 | Loss 0.0024 | Win/lose count 18.0/5.0 (13.0)\n"
          ],
          "name": "stdout"
        },
        {
          "output_type": "execute_result",
          "data": {
            "text/html": [
              "<video alt=\"test\" controls>\n",
              "                <source src=\"data:video/mp4;base64,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\" type=\"video/mp4\" />\n",
              "             </video>"
            ],
            "text/plain": [
              "<IPython.core.display.HTML object>"
            ]
          },
          "metadata": {
            "tags": []
          },
          "execution_count": 27
        }
      ]
    },
    {
      "cell_type": "markdown",
      "metadata": {
        "id": "kouEZGkJl6S2",
        "colab_type": "text"
      },
      "source": [
        "***\n",
        "***\n",
        "__Question 9__ Test both algorithms and compare their performances. Which issue(s) do you observe? Observe also different behaviors by changing the temperature."
      ]
    },
    {
      "cell_type": "code",
      "metadata": {
        "id": "j1f8tsjil6S3",
        "colab_type": "code",
        "outputId": "db3f1c8c-0ba6-42c6-d2e7-0df0038899a0",
        "colab": {
          "base_uri": "https://localhost:8080/",
          "height": 1000
        }
      },
      "source": [
        "env = Environment(grid_size=size, max_time=T,temperature=0.3)\n",
        "agent_cnn = DQN_CNN(size, lr=.1, epsilon = 0.1, memory_size=2000, batch_size = 32)\n",
        "agent_cnn.load(name_weights='cnn_trainmodel.h5',name_model='cnn_trainmodel.json')\n",
        "epochs_test=50\n",
        "agent_fc = DQN_FC(size, lr=.1, epsilon = 0.1, memory_size=2000, batch_size = 32)\n",
        "agent_cnn.load(name_weights='fc_trainmodel.h5',name_model='fc_trainmodel.json')\n",
        "print('Test of the CNN')\n",
        "test(agent_cnn,env,epochs_test,prefix='cnn_test')\n",
        "print('Test of the FC')\n",
        "test(agent_fc,env,epochs_test,prefix='fc_test')"
      ],
      "execution_count": 0,
      "outputs": [
        {
          "output_type": "stream",
          "text": [
            "Test of the CNN\n",
            "Win/lose count 3.0/2.0. Average score (2.0)\n",
            "Win/lose count 7.0/5.0. Average score (3.0)\n",
            "Win/lose count 7.5/2.0. Average score (5.666666666666667)\n",
            "Win/lose count 3.0/2.0. Average score (4.75)\n",
            "Win/lose count 14.5/4.0. Average score (8.0)\n",
            "Win/lose count 7.5/3.0. Average score (8.166666666666666)\n",
            "Win/lose count 7.0/4.0. Average score (7.857142857142857)\n",
            "Win/lose count 5.5/2.0. Average score (7.75)\n",
            "Win/lose count 6.5/1.0. Average score (8.11111111111111)\n",
            "Win/lose count 9.5/5.0. Average score (8.2)\n",
            "Win/lose count 10.0/2.0. Average score (8.909090909090908)\n",
            "Win/lose count 4.0/1.0. Average score (8.666666666666666)\n",
            "Win/lose count 7.0/3.0. Average score (8.615384615384615)\n",
            "Win/lose count 7.0/3.0. Average score (8.571428571428571)\n",
            "Win/lose count 3.5/0. Average score (8.466666666666667)\n",
            "Win/lose count 6.0/0. Average score (8.6875)\n",
            "Win/lose count 6.0/3.0. Average score (8.529411764705882)\n",
            "Win/lose count 1.5/1.0. Average score (8.11111111111111)\n",
            "Win/lose count 7.5/1.0. Average score (8.368421052631579)\n",
            "Win/lose count 4.5/4.0. Average score (8.0)\n",
            "Win/lose count 5.0/0. Average score (8.095238095238095)\n",
            "Win/lose count 6.0/3.0. Average score (8.0)\n",
            "Win/lose count 1.0/2.0. Average score (7.565217391304348)\n",
            "Win/lose count 5.0/3.0. Average score (7.416666666666667)\n",
            "Win/lose count 3.0/0. Average score (7.36)\n",
            "Win/lose count 8.0/3.0. Average score (7.461538461538462)\n",
            "Win/lose count 5.5/2.0. Average score (7.444444444444445)\n",
            "Win/lose count 10.5/1.0. Average score (7.857142857142857)\n",
            "Win/lose count 9.0/5.0. Average score (7.862068965517241)\n",
            "Win/lose count 2.0/0. Average score (7.733333333333333)\n",
            "Win/lose count 2.5/0. Average score (7.645161290322581)\n",
            "Win/lose count 7.0/0. Average score (7.84375)\n",
            "Win/lose count 4.0/1.0. Average score (7.787878787878788)\n",
            "Win/lose count 7.5/3.0. Average score (7.823529411764706)\n",
            "Win/lose count 9.0/2.0. Average score (8.0)\n",
            "Win/lose count 7.0/3.0. Average score (8.0)\n",
            "Win/lose count 4.0/0. Average score (8.0)\n",
            "Win/lose count 7.0/5.0. Average score (7.894736842105263)\n",
            "Win/lose count 7.5/2.0. Average score (7.9743589743589745)\n",
            "Win/lose count 2.0/1.0. Average score (7.825)\n",
            "Win/lose count 12.5/2.0. Average score (8.146341463414634)\n",
            "Win/lose count 6.5/2.0. Average score (8.166666666666666)\n",
            "Win/lose count 5.0/1.0. Average score (8.162790697674419)\n",
            "Win/lose count 11.5/3.0. Average score (8.363636363636363)\n",
            "Win/lose count 3.0/1.0. Average score (8.266666666666667)\n",
            "Win/lose count 6.5/1.0. Average score (8.326086956521738)\n",
            "Win/lose count 5.5/0. Average score (8.382978723404255)\n",
            "Win/lose count 13.0/4.0. Average score (8.583333333333334)\n",
            "Win/lose count 4.5/0. Average score (8.591836734693878)\n",
            "Win/lose count 7.0/3.0. Average score (8.58)\n",
            "Final score: 8.58\n",
            "Test of the FC\n",
            "Win/lose count 3.0/1.0. Average score (4.0)\n",
            "Win/lose count 3.5/3.0. Average score (2.5)\n",
            "Win/lose count 2.5/1.0. Average score (2.6666666666666665)\n",
            "Win/lose count 2.5/3.0. Average score (1.75)\n",
            "Win/lose count 3.5/6.0. Average score (0.4)\n",
            "Win/lose count 4.5/6.0. Average score (-0.16666666666666666)\n",
            "Win/lose count 1.0/3.0. Average score (-0.7142857142857143)\n",
            "Win/lose count 3.0/4.0. Average score (-0.875)\n",
            "Win/lose count 2.0/2.0. Average score (-0.7777777777777778)\n",
            "Win/lose count 1.0/2.0. Average score (-0.9)\n",
            "Win/lose count 2.0/1.0. Average score (-0.6363636363636364)\n",
            "Win/lose count 2.0/4.0. Average score (-0.9166666666666666)\n",
            "Win/lose count 5.5/4.0. Average score (-0.6153846153846154)\n",
            "Win/lose count 2.0/3.0. Average score (-0.7142857142857143)\n",
            "Win/lose count 4.0/4.0. Average score (-0.6666666666666666)\n",
            "Win/lose count 2.0/0. Average score (-0.375)\n",
            "Win/lose count 2.0/2.0. Average score (-0.35294117647058826)\n",
            "Win/lose count 4.0/5.0. Average score (-0.4444444444444444)\n",
            "Win/lose count 0.5/4.0. Average score (-0.7894736842105263)\n",
            "Win/lose count 3.0/5.0. Average score (-0.95)\n",
            "Win/lose count 2.0/1.0. Average score (-0.8095238095238095)\n",
            "Win/lose count 5.5/7.0. Average score (-0.9090909090909091)\n",
            "Win/lose count 2.5/6.0. Average score (-1.173913043478261)\n",
            "Win/lose count 0/4.0. Average score (-1.4583333333333333)\n",
            "Win/lose count 4.5/2.0. Average score (-1.2)\n",
            "Win/lose count 2.5/4.0. Average score (-1.2692307692307692)\n",
            "Win/lose count 1.0/2.0. Average score (-1.2962962962962963)\n",
            "Win/lose count 1.5/4.0. Average score (-1.4285714285714286)\n",
            "Win/lose count 0/7.0. Average score (-1.8620689655172413)\n",
            "Win/lose count 2.5/1.0. Average score (-1.7)\n",
            "Win/lose count 1.5/6.0. Average score (-1.935483870967742)\n",
            "Win/lose count 3.0/4.0. Average score (-1.9375)\n",
            "Win/lose count 1.5/1.0. Average score (-1.8484848484848484)\n",
            "Win/lose count 5.0/3.0. Average score (-1.6764705882352942)\n",
            "Win/lose count 3.5/4.0. Average score (-1.6571428571428573)\n",
            "Win/lose count 2.5/2.0. Average score (-1.5833333333333333)\n",
            "Win/lose count 4.0/4.0. Average score (-1.5405405405405406)\n",
            "Win/lose count 3.0/1.0. Average score (-1.394736842105263)\n",
            "Win/lose count 3.0/3.0. Average score (-1.358974358974359)\n",
            "Win/lose count 2.0/4.0. Average score (-1.425)\n",
            "Win/lose count 2.0/3.0. Average score (-1.4390243902439024)\n",
            "Win/lose count 2.0/5.0. Average score (-1.5476190476190477)\n",
            "Win/lose count 2.0/3.0. Average score (-1.558139534883721)\n",
            "Win/lose count 2.0/3.0. Average score (-1.5681818181818181)\n",
            "Win/lose count 1.5/1.0. Average score (-1.511111111111111)\n",
            "Win/lose count 1.5/2.0. Average score (-1.5)\n",
            "Win/lose count 3.0/3.0. Average score (-1.4680851063829787)\n",
            "Win/lose count 2.5/1.0. Average score (-1.375)\n",
            "Win/lose count 2.0/3.0. Average score (-1.3877551020408163)\n",
            "Win/lose count 2.5/8.0. Average score (-1.58)\n",
            "Final score: -1.58\n"
          ],
          "name": "stdout"
        }
      ]
    },
    {
      "cell_type": "code",
      "metadata": {
        "id": "mg1es5v2l6S8",
        "colab_type": "code",
        "outputId": "d47cf4f2-9ba4-4691-e17f-ed69e0241ead",
        "colab": {
          "base_uri": "https://localhost:8080/",
          "height": 293
        }
      },
      "source": [
        "HTML(display_videos('cnn_test10.mp4'))"
      ],
      "execution_count": 0,
      "outputs": [
        {
          "output_type": "execute_result",
          "data": {
            "text/html": [
              "<video alt=\"test\" controls>\n",
              "                <source src=\"data:video/mp4;base64,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\" type=\"video/mp4\" />\n",
              "             </video>"
            ],
            "text/plain": [
              "<IPython.core.display.HTML object>"
            ]
          },
          "metadata": {
            "tags": []
          },
          "execution_count": 29
        }
      ]
    },
    {
      "cell_type": "code",
      "metadata": {
        "id": "ODftiivUl6TB",
        "colab_type": "code",
        "outputId": "42125a6d-5be6-40a2-eb62-2aa1d8493a14",
        "colab": {
          "base_uri": "https://localhost:8080/",
          "height": 293
        }
      },
      "source": [
        "HTML(display_videos('fc_test10.mp4'))"
      ],
      "execution_count": 0,
      "outputs": [
        {
          "output_type": "execute_result",
          "data": {
            "text/html": [
              "<video alt=\"test\" controls>\n",
              "                <source src=\"data:video/mp4;base64,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\" type=\"video/mp4\" />\n",
              "             </video>"
            ],
            "text/plain": [
              "<IPython.core.display.HTML object>"
            ]
          },
          "metadata": {
            "tags": []
          },
          "execution_count": 30
        }
      ]
    },
    {
      "cell_type": "markdown",
      "metadata": {
        "id": "9Age3RMPl6TE",
        "colab_type": "text"
      },
      "source": [
        "The CNN network performs much better than the MLP model in this case since it takes in account the structure of the image. We see on the videos that the agent struggle to explore the grid. Both algorithm perform better with high temperature but the gap between performances increase as well"
      ]
    },
    {
      "cell_type": "markdown",
      "metadata": {
        "id": "fWvgEMxal6TG",
        "colab_type": "text"
      },
      "source": [
        "***\n",
        "\n",
        "The algorithm tends to not explore the map which can be an issue. We propose two ideas in order to encourage exploration:\n",
        "1. Incorporating a decreasing $\\epsilon$-greedy exploration. You can use the method ```set_epsilon```\n",
        "2. Append via the environment a new state that describes if a cell has been visited or not\n",
        "\n",
        "***\n",
        "__Question 10__ Design a new ```train_explore``` function and environment class ```EnvironmentExploring``` to tackle the issue of exploration.\n",
        "\n"
      ]
    },
    {
      "cell_type": "code",
      "metadata": {
        "id": "o0_wCeb5l6TI",
        "colab_type": "code",
        "colab": {}
      },
      "source": [
        "def train_explore(agent,env,epoch,prefix=''):\n",
        "    # Number of won games\n",
        "    score = 0\n",
        "    loss = 0\n",
        "    steps=0\n",
        "    eps_decay=10000\n",
        "    for e in range(epoch):\n",
        "        # At each epoch, we restart to a fresh game and get the initial state\n",
        "        state = env.reset()\n",
        "        # This assumes that the games will terminate\n",
        "        game_over = False\n",
        "\n",
        "        win = 0\n",
        "        lose = 0\n",
        "\n",
        "        while not game_over:\n",
        "            steps+=1\n",
        "            # The agent performs an action\n",
        "            action = agent.act(state)\n",
        "\n",
        "            # Apply an action to the environment, get the next state, the reward\n",
        "            # and if the games end\n",
        "            prev_state = state\n",
        "            state, reward, game_over = env.act(action,train=True)\n",
        "\n",
        "            # Update the counters\n",
        "            if reward > 0:\n",
        "                win = win + reward\n",
        "            if reward < 0:\n",
        "                lose = lose -reward\n",
        "\n",
        "            # Apply the reinforcement strategy\n",
        "            loss = agent.reinforce(prev_state, state,  action, reward, game_over)\n",
        "            test_eps=int(steps>eps_decay)\n",
        "            eps=(1-steps*(0.1-0.01)/eps_decay)*(1-test_eps)+0.01*test_eps\n",
        "            agent.set_epsilon(eps)\n",
        "        # Save as a mp4\n",
        "        if e % 10 == 0:\n",
        "            env.draw(prefix+str(e))\n",
        "\n",
        "        # Update stats\n",
        "        score += win-lose\n",
        "\n",
        "        print(\"Epoch {:03d}/{:03d} | Loss {:.4f} | Win/lose count {}/{} ({})\"\n",
        "              .format(e, epoch, loss, win, lose, win-lose))\n",
        "        agent.save(name_weights=prefix+'model.h5',name_model=prefix+'model.json')\n",
        "        \n",
        "class EnvironmentExploring(object):\n",
        "    def __init__(self, grid_size=10, max_time=500, temperature=0.1):\n",
        "        grid_size = grid_size+4\n",
        "        self.grid_size = grid_size\n",
        "        self.max_time = max_time\n",
        "        self.temperature = temperature\n",
        "\n",
        "        #board on which one plays\n",
        "        self.board = np.zeros((grid_size,grid_size))\n",
        "        self.position = np.zeros((grid_size,grid_size))\n",
        "        self.malus_position=np.zeros((grid_size,grid_size))\n",
        "        # coordinate of the cat\n",
        "        self.x = 0\n",
        "        self.y = 1\n",
        "\n",
        "        # self time\n",
        "        self.t = 0\n",
        "\n",
        "        self.scale=16\n",
        "\n",
        "        self.to_draw = np.zeros((max_time+2, grid_size*self.scale, grid_size*self.scale, 3))\n",
        "\n",
        "\n",
        "    def draw(self,e):\n",
        "        skvideo.io.vwrite(str(e) + '.mp4', self.to_draw)\n",
        "\n",
        "    def get_frame(self,t):\n",
        "        b = np.zeros((self.grid_size,self.grid_size,3))+128\n",
        "        b[self.board>0,0] = 256\n",
        "        b[self.board < 0, 2] = 256\n",
        "        b[self.x,self.y,:]=256\n",
        "        b[-2:,:,:]=0\n",
        "        b[:,-2:,:]=0\n",
        "        b[:2,:,:]=0\n",
        "        b[:,:2,:]=0\n",
        "        \n",
        "        b =  cv2.resize(b, None, fx=self.scale, fy=self.scale, interpolation=cv2.INTER_NEAREST)\n",
        "\n",
        "        self.to_draw[t,:,:,:]=b\n",
        "\n",
        "\n",
        "    def act(self, action,train=False):\n",
        "        \"\"\"This function returns the new state, reward and decides if the\n",
        "        game ends.\"\"\"\n",
        "\n",
        "        self.get_frame(int(self.t))\n",
        "\n",
        "        self.position = np.zeros((self.grid_size, self.grid_size))\n",
        "\n",
        "        self.position[0:2,:]= -1\n",
        "        self.position[:,0:2] = -1\n",
        "        self.position[-2:, :] = -1\n",
        "        self.position[-2:, :] = -1\n",
        "\n",
        "        self.position[self.x, self.y] = 1\n",
        "        if action == 0:\n",
        "            if self.x == self.grid_size-3:\n",
        "                self.x = self.x-1\n",
        "            else:\n",
        "                self.x = self.x + 1\n",
        "        elif action == 1:\n",
        "            if self.x == 2:\n",
        "                self.x = self.x+1\n",
        "            else:\n",
        "                self.x = self.x-1\n",
        "        elif action == 2:\n",
        "            if self.y == self.grid_size - 3:\n",
        "                self.y = self.y - 1\n",
        "            else:\n",
        "                self.y = self.y + 1\n",
        "        elif action == 3:\n",
        "            if self.y == 2:\n",
        "                self.y = self.y + 1\n",
        "            else:\n",
        "                self.y = self.y - 1\n",
        "        else:\n",
        "            RuntimeError('Error: action not recognized')\n",
        "\n",
        "        self.t = self.t + 1\n",
        "        reward=0\n",
        "        if train:\n",
        "            reward = -self.malus_position[self.x, self.y] \n",
        "        self.malus_position[self.x, self.y] = 0.1 \n",
        "        reward = reward + self.board[self.x, self.y]\n",
        "        self.board[self.x, self.y] = 0\n",
        "        game_over = self.t > self.max_time\n",
        "        state = np.concatenate((self.malus_position.reshape(self.grid_size, self.grid_size,1),\n",
        "                                self.board.reshape(self.grid_size, self.grid_size,1),\n",
        "                        self.position.reshape(self.grid_size, self.grid_size,1)),axis=2)\n",
        "        state = state[self.x-2:self.x+3,self.y-2:self.y+3,:]\n",
        "        return state, reward, game_over\n",
        "\n",
        "    def reset(self):\n",
        "        \"\"\"This function resets the game and returns the initial state\"\"\"\n",
        "\n",
        "        self.x = np.random.randint(3, self.grid_size-3, size=1)[0]\n",
        "        self.y = np.random.randint(3, self.grid_size-3, size=1)[0]\n",
        "\n",
        "\n",
        "        bonus = 0.5*np.random.binomial(1,self.temperature,size=self.grid_size**2)\n",
        "        bonus = bonus.reshape(self.grid_size,self.grid_size)\n",
        "\n",
        "        malus = -1.0*np.random.binomial(1,self.temperature,size=self.grid_size**2)\n",
        "        malus = malus.reshape(self.grid_size, self.grid_size)\n",
        "\n",
        "        self.to_draw = np.zeros((self.max_time+2, self.grid_size*self.scale, self.grid_size*self.scale, 3))\n",
        "\n",
        "\n",
        "        malus[bonus>0]=0\n",
        "\n",
        "        self.board = bonus + malus\n",
        "\n",
        "        self.position = np.zeros((self.grid_size, self.grid_size))\n",
        "        self.position[0:2,:]= -1\n",
        "        self.position[:,0:2] = -1\n",
        "        self.position[-2:, :] = -1\n",
        "        self.position[-2:, :] = -1\n",
        "        self.board[self.x,self.y] = 0\n",
        "        self.t = 0\n",
        "\n",
        "        state = np.concatenate((self.malus_position.reshape(self.grid_size, self.grid_size,1),\n",
        "                                self.board.reshape(self.grid_size, self.grid_size,1),\n",
        "                        self.position.reshape(self.grid_size, self.grid_size,1)),axis=2)\n",
        "        state = state[self.x-2:self.x+3,self.y-2:self.y+3,:]\n",
        "        return state\n",
        "      \n",
        "    \n",
        "## use those samples of code:\n",
        "#In train explore:\n",
        "#state, reward, game_over = env.act(action, train=True)\n",
        "\n",
        "## In Environment exploring:\n",
        "# You will have to change n_state to 3 because you will use one more layer!\n",
        "#reward = 0\n",
        "#if train:\n",
        "#   reward = -self.malus_position[self.x, self.y]\n",
        "#self.malus_position[self.x, self.y] = 0.1\n",
        "\n",
        "#reward = reward + self.board[self.x, self.y]\n",
        "# 3 \"feature\" states instead of 2\n",
        "#state = np.concatenate((self.malus_position.reshape(self.grid_size, self.grid_size,1),\n",
        "#                                self.board.reshape(self.grid_size, self.grid_size,1),\n",
        "#                        self.position.reshape(self.grid_size, self.grid_size,1)),axis=2)"
      ],
      "execution_count": 0,
      "outputs": []
    },
    {
      "cell_type": "code",
      "metadata": {
        "id": "0vRgBSkQl6TP",
        "colab_type": "code",
        "colab": {
          "base_uri": "https://localhost:8080/",
          "height": 1000
        },
        "outputId": "248a7f99-d9c8-4cbc-ad06-af3945553b1a"
      },
      "source": [
        "# Training\n",
        "import warnings \n",
        "warnings.filterwarnings('ignore')\n",
        "env = EnvironmentExploring(grid_size=size, max_time=T, temperature=0.3)\n",
        "epochs_train=101\n",
        "agent = DQN_CNN(size, lr=.1, epsilon = 0.1, memory_size=2000, batch_size = 32,n_state=3)\n",
        "train_explore(agent, env, epochs_train, prefix='cnn_train_explore')\n",
        "HTML(display_videos('cnn_train_explore10.mp4'))"
      ],
      "execution_count": 29,
      "outputs": [
        {
          "output_type": "stream",
          "text": [
            "Epoch 000/101 | Loss 0.0050 | Win/lose count 8.5/28.000000000000114 (-19.500000000000114)\n",
            "Epoch 001/101 | Loss 0.0137 | Win/lose count 7.4/30.700000000000124 (-23.300000000000125)\n",
            "Epoch 003/101 | Loss 0.0035 | Win/lose count 12.500000000000005/29.3000000000001 (-16.800000000000097)\n",
            "Epoch 004/101 | Loss 0.0036 | Win/lose count 8.200000000000003/35.00000000000014 (-26.80000000000014)\n",
            "Epoch 005/101 | Loss 0.0023 | Win/lose count 10.200000000000005/38.400000000000176 (-28.200000000000173)\n",
            "Epoch 006/101 | Loss 0.0037 | Win/lose count 11.600000000000005/32.70000000000008 (-21.100000000000076)\n",
            "Epoch 007/101 | Loss 0.0036 | Win/lose count 5.6000000000000005/33.70000000000017 (-28.100000000000172)\n",
            "Epoch 008/101 | Loss 0.0031 | Win/lose count 10.400000000000004/31.50000000000013 (-21.10000000000013)\n",
            "Epoch 009/101 | Loss 0.0079 | Win/lose count 10.000000000000004/26.60000000000008 (-16.600000000000076)\n",
            "Epoch 010/101 | Loss 0.0089 | Win/lose count 10.000000000000004/33.6000000000001 (-23.600000000000097)\n",
            "Epoch 011/101 | Loss 0.0058 | Win/lose count 4.3999999999999995/35.500000000000156 (-31.100000000000158)\n",
            "Epoch 012/101 | Loss 0.0602 | Win/lose count 6.000000000000001/32.600000000000094 (-26.600000000000094)\n",
            "Epoch 013/101 | Loss 0.0095 | Win/lose count 11.600000000000005/30.200000000000056 (-18.60000000000005)\n",
            "Epoch 014/101 | Loss 0.1042 | Win/lose count 9.600000000000003/32.70000000000013 (-23.10000000000013)\n",
            "Epoch 015/101 | Loss 0.0035 | Win/lose count 9.600000000000003/26.70000000000008 (-17.10000000000008)\n",
            "Epoch 016/101 | Loss 0.0500 | Win/lose count 8.000000000000002/33.10000000000016 (-25.100000000000158)\n",
            "Epoch 017/101 | Loss 0.0042 | Win/lose count 9.600000000000003/34.70000000000012 (-25.100000000000115)\n",
            "Epoch 018/101 | Loss 0.0063 | Win/lose count 6.000000000000001/30.60000000000014 (-24.60000000000014)\n",
            "Epoch 019/101 | Loss 0.0047 | Win/lose count 9.200000000000003/32.80000000000015 (-23.60000000000015)\n",
            "Epoch 020/101 | Loss 0.0444 | Win/lose count 4.9/33.800000000000146 (-28.900000000000148)\n",
            "Epoch 021/101 | Loss 0.0597 | Win/lose count 8.800000000000002/26.90000000000008 (-18.10000000000008)\n",
            "Epoch 022/101 | Loss 0.0042 | Win/lose count 8.400000000000002/38.000000000000135 (-29.600000000000133)\n",
            "Epoch 023/101 | Loss 0.0068 | Win/lose count 8.800000000000002/36.80000000000012 (-28.000000000000114)\n",
            "Epoch 024/101 | Loss 0.0058 | Win/lose count 11.600000000000005/26.20000000000009 (-14.600000000000087)\n",
            "Epoch 025/101 | Loss 0.0119 | Win/lose count 9.600000000000003/32.700000000000095 (-23.100000000000094)\n",
            "Epoch 026/101 | Loss 0.0034 | Win/lose count 5.6000000000000005/34.70000000000013 (-29.10000000000013)\n",
            "Epoch 027/101 | Loss 0.0046 | Win/lose count 6.800000000000002/26.400000000000077 (-19.600000000000076)\n",
            "Epoch 028/101 | Loss 0.0050 | Win/lose count 9.600000000000003/35.700000000000124 (-26.100000000000122)\n",
            "Epoch 029/101 | Loss 0.0032 | Win/lose count 10.800000000000004/33.40000000000013 (-22.600000000000122)\n",
            "Epoch 030/101 | Loss 0.0036 | Win/lose count 6.800000000000002/30.40000000000013 (-23.60000000000013)\n",
            "Epoch 031/101 | Loss 0.0107 | Win/lose count 9.600000000000003/41.70000000000011 (-32.10000000000011)\n",
            "Epoch 032/101 | Loss 0.0045 | Win/lose count 6.400000000000001/31.50000000000011 (-25.100000000000108)\n",
            "Epoch 033/101 | Loss 0.0379 | Win/lose count 9.200000000000003/32.80000000000012 (-23.600000000000115)\n",
            "Epoch 034/101 | Loss 0.0057 | Win/lose count 7.200000000000002/27.300000000000107 (-20.100000000000104)\n",
            "Epoch 035/101 | Loss 0.0037 | Win/lose count 7.200000000000002/29.300000000000107 (-22.100000000000104)\n",
            "Epoch 036/101 | Loss 0.0068 | Win/lose count 10.800000000000004/29.400000000000126 (-18.600000000000122)\n",
            "Epoch 037/101 | Loss 0.0075 | Win/lose count 13.200000000000006/36.80000000000013 (-23.600000000000126)\n",
            "Epoch 038/101 | Loss 0.0413 | Win/lose count 8.000000000000002/29.100000000000122 (-21.100000000000122)\n",
            "Epoch 039/101 | Loss 0.0348 | Win/lose count 12.000000000000005/30.10000000000009 (-18.100000000000087)\n",
            "Epoch 040/101 | Loss 0.0469 | Win/lose count 12.400000000000006/31.00000000000011 (-18.600000000000104)\n",
            "Epoch 041/101 | Loss 0.0033 | Win/lose count 7.200000000000002/24.30000000000009 (-17.100000000000087)\n",
            "Epoch 042/101 | Loss 0.0064 | Win/lose count 10.800000000000004/32.40000000000011 (-21.600000000000108)\n",
            "Epoch 043/101 | Loss 0.0049 | Win/lose count 13.600000000000007/38.70000000000013 (-25.100000000000122)\n",
            "Epoch 044/101 | Loss 0.0032 | Win/lose count 10.000000000000004/26.600000000000072 (-16.60000000000007)\n",
            "Epoch 045/101 | Loss 0.0041 | Win/lose count 12.800000000000006/29.90000000000011 (-17.1000000000001)\n",
            "Epoch 046/101 | Loss 0.0062 | Win/lose count 10.800000000000004/31.40000000000013 (-20.600000000000126)\n",
            "Epoch 047/101 | Loss 0.0039 | Win/lose count 6.800000000000002/33.40000000000011 (-26.60000000000011)\n",
            "Epoch 048/101 | Loss 0.0026 | Win/lose count 7.600000000000002/34.200000000000124 (-26.600000000000122)\n",
            "Epoch 049/101 | Loss 0.0057 | Win/lose count 12.000000000000005/29.100000000000126 (-17.100000000000122)\n",
            "Epoch 050/101 | Loss 0.0948 | Win/lose count 8.800000000000002/17.899999999999984 (-9.099999999999982)\n",
            "Epoch 051/101 | Loss 0.0053 | Win/lose count 10.400000000000004/17.49999999999998 (-7.099999999999975)\n",
            "Epoch 052/101 | Loss 0.0032 | Win/lose count 17.6/16.69999999999997 (0.9000000000000306)\n",
            "Epoch 053/101 | Loss 0.0023 | Win/lose count 5.6000000000000005/19.699999999999996 (-14.099999999999994)\n",
            "Epoch 054/101 | Loss 0.0037 | Win/lose count 2.0/19.60000000000001 (-17.60000000000001)\n",
            "Epoch 055/101 | Loss 0.0052 | Win/lose count 10.400000000000004/18.499999999999996 (-8.099999999999993)\n",
            "Epoch 056/101 | Loss 0.0048 | Win/lose count 8.000000000000002/19.1 (-11.1)\n",
            "Epoch 057/101 | Loss 0.0039 | Win/lose count 11.600000000000005/17.199999999999974 (-5.5999999999999694)\n",
            "Epoch 058/101 | Loss 0.0046 | Win/lose count 10.800000000000004/18.399999999999995 (-7.599999999999991)\n",
            "Epoch 059/101 | Loss 0.0029 | Win/lose count 16.000000000000007/16.09999999999996 (-0.09999999999995168)\n",
            "Epoch 060/101 | Loss 0.0086 | Win/lose count 11.200000000000005/17.299999999999976 (-6.099999999999971)\n",
            "Epoch 061/101 | Loss 0.0059 | Win/lose count 6.000000000000001/19.600000000000012 (-13.600000000000012)\n",
            "Epoch 062/101 | Loss 0.0105 | Win/lose count 7.600000000000002/19.200000000000003 (-11.600000000000001)\n",
            "Epoch 063/101 | Loss 0.0072 | Win/lose count 10.000000000000004/17.59999999999998 (-7.5999999999999766)\n",
            "Epoch 064/101 | Loss 0.0126 | Win/lose count 5.2/18.799999999999997 (-13.599999999999998)\n",
            "Epoch 065/101 | Loss 0.0313 | Win/lose count 7.600000000000002/18.19999999999999 (-10.599999999999987)\n",
            "Epoch 066/101 | Loss 0.0108 | Win/lose count 15.600000000000009/17.199999999999978 (-1.5999999999999694)\n",
            "Epoch 067/101 | Loss 0.0027 | Win/lose count 14.800000000000008/16.399999999999963 (-1.5999999999999552)\n",
            "Epoch 068/101 | Loss 0.0091 | Win/lose count 9.200000000000003/17.799999999999983 (-8.59999999999998)\n",
            "Epoch 069/101 | Loss 0.0077 | Win/lose count 2.4/19.500000000000007 (-17.10000000000001)\n",
            "Epoch 070/101 | Loss 0.0156 | Win/lose count 7.200000000000002/18.29999999999999 (-11.099999999999987)\n",
            "Epoch 071/101 | Loss 0.0089 | Win/lose count 8.400000000000002/17.999999999999986 (-9.599999999999984)\n",
            "Epoch 072/101 | Loss 0.0056 | Win/lose count 5.6000000000000005/19.700000000000014 (-14.100000000000012)\n",
            "Epoch 073/101 | Loss 0.0053 | Win/lose count 7.200000000000002/19.300000000000008 (-12.100000000000005)\n",
            "Epoch 074/101 | Loss 0.0045 | Win/lose count 0.8/19.900000000000013 (-19.100000000000012)\n",
            "Epoch 075/101 | Loss 0.0079 | Win/lose count 1.6/19.70000000000001 (-18.10000000000001)\n",
            "Epoch 076/101 | Loss 0.0050 | Win/lose count 10.800000000000004/17.399999999999977 (-6.599999999999973)\n",
            "Epoch 077/101 | Loss 0.0106 | Win/lose count 11.200000000000005/18.299999999999994 (-7.099999999999989)\n",
            "Epoch 078/101 | Loss 0.0057 | Win/lose count 5.6000000000000005/19.70000000000001 (-14.100000000000009)\n",
            "Epoch 079/101 | Loss 0.0061 | Win/lose count 4.8/19.900000000000016 (-15.100000000000016)\n",
            "Epoch 080/101 | Loss 0.0069 | Win/lose count 10.800000000000004/17.399999999999977 (-6.599999999999973)\n",
            "Epoch 081/101 | Loss 0.0030 | Win/lose count 10.400000000000004/17.49999999999998 (-7.099999999999975)\n",
            "Epoch 082/101 | Loss 0.0081 | Win/lose count 6.000000000000001/18.599999999999994 (-12.599999999999994)\n",
            "Epoch 083/101 | Loss 0.0102 | Win/lose count 18.799999999999997/16.399999999999967 (2.4000000000000306)\n",
            "Epoch 084/101 | Loss 0.0040 | Win/lose count 17.200000000000003/15.79999999999996 (1.400000000000043)\n",
            "Epoch 085/101 | Loss 0.0046 | Win/lose count 16.800000000000004/15.89999999999996 (0.9000000000000448)\n",
            "Epoch 086/101 | Loss 0.0084 | Win/lose count 10.000000000000004/17.59999999999998 (-7.5999999999999766)\n",
            "Epoch 087/101 | Loss 0.0070 | Win/lose count 4.8/18.9 (-14.099999999999998)\n",
            "Epoch 088/101 | Loss 0.0214 | Win/lose count 9.600000000000003/18.699999999999996 (-9.099999999999993)\n",
            "Epoch 089/101 | Loss 0.0092 | Win/lose count 8.400000000000002/17.999999999999986 (-9.599999999999984)\n",
            "Epoch 091/101 | Loss 0.0150 | Win/lose count 8.000000000000002/19.099999999999987 (-11.099999999999985)\n",
            "Epoch 092/101 | Loss 0.0114 | Win/lose count 6.000000000000001/18.599999999999994 (-12.599999999999994)\n",
            "Epoch 093/101 | Loss 0.0171 | Win/lose count 10.400000000000004/17.49999999999998 (-7.099999999999975)\n",
            "Epoch 094/101 | Loss 0.0066 | Win/lose count 9.200000000000003/17.799999999999983 (-8.59999999999998)\n",
            "Epoch 095/101 | Loss 0.0165 | Win/lose count 11.600000000000005/17.199999999999974 (-5.5999999999999694)\n",
            "Epoch 096/101 | Loss 0.0194 | Win/lose count 4.3999999999999995/19.0 (-14.600000000000001)\n",
            "Epoch 097/101 | Loss 0.0106 | Win/lose count 8.800000000000002/17.899999999999984 (-9.099999999999982)\n",
            "Epoch 098/101 | Loss 0.0050 | Win/lose count 9.200000000000003/17.799999999999983 (-8.59999999999998)\n",
            "Epoch 099/101 | Loss 0.0127 | Win/lose count 10.800000000000004/18.399999999999977 (-7.599999999999973)\n",
            "Epoch 100/101 | Loss 0.0082 | Win/lose count 7.200000000000002/18.29999999999999 (-11.099999999999987)\n"
          ],
          "name": "stdout"
        },
        {
          "output_type": "execute_result",
          "data": {
            "text/html": [
              "<video alt=\"test\" controls>\n",
              "                <source src=\"data:video/mp4;base64,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\" type=\"video/mp4\" />\n",
              "             </video>"
            ],
            "text/plain": [
              "<IPython.core.display.HTML object>"
            ]
          },
          "metadata": {
            "tags": []
          },
          "execution_count": 29
        }
      ]
    },
    {
      "cell_type": "code",
      "metadata": {
        "id": "5ltvo_jSl6TS",
        "colab_type": "code",
        "colab": {
          "base_uri": "https://localhost:8080/",
          "height": 1000
        },
        "outputId": "72dace44-7db3-4ab3-85e5-7a9ad4707363"
      },
      "source": [
        "# Evaluation\n",
        "epochs_test=50\n",
        "test(agent,env,epochs_test,prefix='cnn_test_explore')\n",
        "HTML(display_videos('cnn_test_explore10.mp4'))"
      ],
      "execution_count": 30,
      "outputs": [
        {
          "output_type": "stream",
          "text": [
            "Win/lose count 2.0/0. Average score (4.0)\n",
            "Win/lose count 17.5/1.0. Average score (18.5)\n",
            "Win/lose count 18.0/2.0. Average score (23.0)\n",
            "Win/lose count 13.5/0. Average score (24.0)\n",
            "Win/lose count 8.5/0. Average score (22.6)\n",
            "Win/lose count 16.5/0. Average score (24.333333333333332)\n",
            "Win/lose count 3.0/0. Average score (21.714285714285715)\n",
            "Win/lose count 15.5/0. Average score (22.875)\n",
            "Win/lose count 9.5/0. Average score (22.444444444444443)\n",
            "Win/lose count 6.0/0. Average score (21.4)\n",
            "Win/lose count 6.5/0. Average score (20.636363636363637)\n",
            "Win/lose count 17.5/2.0. Average score (21.5)\n",
            "Win/lose count 12.5/0. Average score (21.76923076923077)\n",
            "Win/lose count 9.5/0. Average score (21.571428571428573)\n",
            "Win/lose count 16.0/0. Average score (22.266666666666666)\n",
            "Win/lose count 18.5/1.0. Average score (23.0625)\n",
            "Win/lose count 14.5/0. Average score (23.41176470588235)\n",
            "Win/lose count 19.5/0. Average score (24.27777777777778)\n",
            "Win/lose count 17.5/3.0. Average score (24.526315789473685)\n",
            "Win/lose count 9.0/0. Average score (24.2)\n",
            "Win/lose count 4.0/0. Average score (23.428571428571427)\n",
            "Win/lose count 7.0/1.0. Average score (22.90909090909091)\n",
            "Win/lose count 2.0/0. Average score (22.08695652173913)\n",
            "Win/lose count 11.5/1.0. Average score (22.041666666666668)\n",
            "Win/lose count 10.0/1.0. Average score (21.88)\n",
            "Win/lose count 8.5/0. Average score (21.692307692307693)\n",
            "Win/lose count 9.0/0. Average score (21.555555555555557)\n",
            "Win/lose count 8.0/0. Average score (21.357142857142858)\n",
            "Win/lose count 11.0/2.0. Average score (21.24137931034483)\n",
            "Win/lose count 9.0/0. Average score (21.133333333333333)\n",
            "Win/lose count 3.0/0. Average score (20.64516129032258)\n",
            "Win/lose count 8.0/0. Average score (20.5)\n",
            "Win/lose count 13.0/0. Average score (20.666666666666668)\n",
            "Win/lose count 2.5/0. Average score (20.205882352941178)\n",
            "Win/lose count 2.5/0. Average score (19.771428571428572)\n",
            "Win/lose count 17.5/2.0. Average score (20.083333333333332)\n",
            "Win/lose count 5.5/0. Average score (19.83783783783784)\n",
            "Win/lose count 14.0/0. Average score (20.05263157894737)\n",
            "Win/lose count 22.5/0. Average score (20.692307692307693)\n",
            "Win/lose count 13.5/1.0. Average score (20.8)\n",
            "Win/lose count 2.5/0. Average score (20.414634146341463)\n",
            "Win/lose count 14.0/0. Average score (20.595238095238095)\n",
            "Win/lose count 11.0/0. Average score (20.627906976744185)\n",
            "Win/lose count 11.5/1.0. Average score (20.636363636363637)\n",
            "Win/lose count 5.5/1.0. Average score (20.377777777777776)\n",
            "Win/lose count 11.5/0. Average score (20.434782608695652)\n",
            "Win/lose count 5.5/0. Average score (20.23404255319149)\n",
            "Win/lose count 8.5/0. Average score (20.166666666666668)\n",
            "Win/lose count 6.0/1.0. Average score (19.959183673469386)\n",
            "Win/lose count 3.0/0. Average score (19.68)\n",
            "Final score: 19.68\n"
          ],
          "name": "stdout"
        },
        {
          "output_type": "execute_result",
          "data": {
            "text/html": [
              "<video alt=\"test\" controls>\n",
              "                <source src=\"data:video/mp4;base64,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\" type=\"video/mp4\" />\n",
              "             </video>"
            ],
            "text/plain": [
              "<IPython.core.display.HTML object>"
            ]
          },
          "metadata": {
            "tags": []
          },
          "execution_count": 30
        }
      ]
    },
    {
      "cell_type": "markdown",
      "metadata": {
        "id": "SY-mdpMtl6TY",
        "colab_type": "text"
      },
      "source": [
        "***\n",
        "***\n",
        "__BONUS question__ Use the expert DQN from the previous question to generate some winning games. Train a model that mimicks its behavior. Compare the performances."
      ]
    },
    {
      "cell_type": "markdown",
      "metadata": {
        "id": "6VAAHl8Fl6TZ",
        "colab_type": "text"
      },
      "source": [
        ""
      ]
    },
    {
      "cell_type": "markdown",
      "metadata": {
        "id": "ACOXCbQBl6Tb",
        "colab_type": "text"
      },
      "source": [
        "***"
      ]
    }
  ]
}